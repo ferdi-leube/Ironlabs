{
 "cells": [
  {
   "cell_type": "code",
   "execution_count": 8,
   "id": "70ae0016",
   "metadata": {},
   "outputs": [],
   "source": [
    "import random\n",
    "import sys"
   ]
  },
  {
   "cell_type": "code",
   "execution_count": 16,
   "id": "c2955ccb",
   "metadata": {},
   "outputs": [
    {
     "name": "stdout",
     "output_type": "stream",
     "text": [
      "Enter minimum string length: 4\n",
      "Enter maximum string length: 8\n",
      "How many random strings to generate? 5\n"
     ]
    },
    {
     "data": {
      "text/plain": [
       "['y0z9ei7', '2hcnqnb', '1rt3if7', 'eym1v9o', 'sq8eiao']"
      ]
     },
     "execution_count": 16,
     "metadata": {},
     "output_type": "execute_result"
    }
   ],
   "source": [
    "def RandomStringGenerator(l, a=['a','b','c','d','e','f','g','h','i','j','k','l','m','n','o','p','q','r','s','t','u','v','w','x','y','z','0','1','2','3','4','5','6','7','8','9']):\n",
    "    letters = [random.choice(a) for x in range(l)]\n",
    "    word = \"\".join(letters)\n",
    "    return word\n",
    "\n",
    "def BatchStringGenerator(n, a, b):\n",
    "    if a <b:\n",
    "            c = random.choice(range(a, b))\n",
    "    elif a == b:\n",
    "            c = a\n",
    "    else:\n",
    "            sys.exit('Incorrect min and max string lengths. Try again.')\n",
    "    strings = [RandomStringGenerator(c) for x in range(n)]\n",
    "    return strings\n",
    "\n",
    "a = int(input('Enter minimum string length: '))\n",
    "b = int(input('Enter maximum string length: '))\n",
    "n = int(input('How many random strings to generate? '))\n",
    "\n",
    "BatchStringGenerator(n,a,b)"
   ]
  },
  {
   "cell_type": "code",
   "execution_count": null,
   "id": "99733c92",
   "metadata": {},
   "outputs": [],
   "source": []
  },
  {
   "cell_type": "code",
   "execution_count": null,
   "id": "52fdec8e",
   "metadata": {},
   "outputs": [],
   "source": []
  }
 ],
 "metadata": {
  "kernelspec": {
   "display_name": "Python 3 (ipykernel)",
   "language": "python",
   "name": "python3"
  },
  "language_info": {
   "codemirror_mode": {
    "name": "ipython",
    "version": 3
   },
   "file_extension": ".py",
   "mimetype": "text/x-python",
   "name": "python",
   "nbconvert_exporter": "python",
   "pygments_lexer": "ipython3",
   "version": "3.9.7"
  }
 },
 "nbformat": 4,
 "nbformat_minor": 5
}
