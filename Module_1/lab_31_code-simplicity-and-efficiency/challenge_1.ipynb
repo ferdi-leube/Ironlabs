{
 "cells": [
  {
   "cell_type": "code",
   "execution_count": null,
   "id": "3ff7c7f0",
   "metadata": {},
   "outputs": [],
   "source": [
    "print('Welcome to this calculator!')\n",
    "print('It can add and subtract whole numbers from zero to five')\n",
    "a = input('Please choose your first number (zero to five): ')\n",
    "b = input('What do you want to do? plus or minus: ')\n",
    "c = input('Please choose your second number (zero to five): ')"
   ]
  },
  {
   "cell_type": "code",
   "execution_count": 1,
   "id": "3db77768",
   "metadata": {},
   "outputs": [],
   "source": [
    "def zero_plus(inpt):\n",
    "    print(f\"zero plus {inpt} equals {inpt}\")\n",
    "    \n",
    "def zero_minus(inpt):\n",
    "    print(f\"zero minus {inpt} equals negative {inpt}\")\n",
    "\n",
    "\n",
    "    "
   ]
  }
 ],
 "metadata": {
  "kernelspec": {
   "display_name": "Python 3 (ipykernel)",
   "language": "python",
   "name": "python3"
  },
  "language_info": {
   "codemirror_mode": {
    "name": "ipython",
    "version": 3
   },
   "file_extension": ".py",
   "mimetype": "text/x-python",
   "name": "python",
   "nbconvert_exporter": "python",
   "pygments_lexer": "ipython3",
   "version": "3.9.7"
  }
 },
 "nbformat": 4,
 "nbformat_minor": 5
}
