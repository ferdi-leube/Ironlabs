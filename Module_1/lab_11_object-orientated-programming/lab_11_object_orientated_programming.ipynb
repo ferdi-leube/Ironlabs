{
 "cells": [
  {
   "cell_type": "code",
   "execution_count": 1,
   "id": "3ff87549",
   "metadata": {},
   "outputs": [],
   "source": [
    "class dataorganization:\n",
    "    def __init__(self, inputlist):\n",
    "        self.inputlist = inputlist\n",
    "        \n",
    "    def remove_marked_elements(self, markedletters):\n",
    "        final_list = []\n",
    "        for x in self.inputlist:\n",
    "            if x not in markedletters:\n",
    "                final_list.append(x)\n",
    "        print(final_list)\n",
    "        \n",
    "    def count_num_of_digits(self, digitstobecounted):\n",
    "        print(self.inputlist)\n",
    "        str_num = []\n",
    "        for item in self.inputlist:\n",
    "            item = str(item)\n",
    "            if len(item) > 1:\n",
    "                item = list(item)\n",
    "                for a in item:\n",
    "                    str_num.append(a)\n",
    "            else:\n",
    "                str_num.append(item)  \n",
    "        #now we have list with all string digits\n",
    "        #now we have to convert strings into digits\n",
    "        digit_num = []\n",
    "        for elem in str_num:\n",
    "            elem = int(elem)\n",
    "            digit_num.append(elem)\n",
    "    \n",
    "        #list for tuples with numbers and thei frequencies\n",
    "        list_with_tuples = []\n",
    "        digit_already_counted = []\n",
    "        for nm in digit_num:\n",
    "            if nm in digitstobecounted and nm not in digit_already_counted:\n",
    "                freq = digit_num.count(nm)\n",
    "                t1 = (nm,freq)\n",
    "                list_with_tuples.append(t1)\n",
    "                digit_already_counted.append(nm) \n",
    "        print(list_with_tuples)\n",
    "    def count_freq_of_characters(self):\n",
    "        work_list = []\n",
    "        for item in self.inputlist:\n",
    "            if type(item) == int:\n",
    "                work_list.append(item)\n",
    "            else:\n",
    "                item = list(item)\n",
    "                for a in item:\n",
    "                    work_list.append(a)\n",
    "        final_list = []\n",
    "        double_etc_characters = []\n",
    "        for i in work_list:\n",
    "            if i not in double_etc_characters:\n",
    "                freq = work_list.count(i)\n",
    "                t1 = (i,freq)\n",
    "                final_list.append(t1)\n",
    "                double_etc_characters.append(i)\n",
    "        print(final_list)\n",
    "            "
   ]
  },
  {
   "cell_type": "code",
   "execution_count": 2,
   "id": "680315aa",
   "metadata": {},
   "outputs": [
    {
     "name": "stdout",
     "output_type": "stream",
     "text": [
      "[1, 2, 4, 5, 4, 5, 5, 4]\n"
     ]
    }
   ],
   "source": [
    "x = [1,2,3,4,5,6,7,8,3,4,5,6,7,5,4,3,9]\n",
    "x = dataorganization(x)\n",
    "remove_list = [3,6,7,8,9]\n",
    "x.remove_marked_elements(remove_list)\n"
   ]
  },
  {
   "cell_type": "code",
   "execution_count": 3,
   "id": "019fb4d6",
   "metadata": {},
   "outputs": [
    {
     "name": "stdout",
     "output_type": "stream",
     "text": [
      "[1, 2, 3, 4, 5, 6, 7, 8, 3, 4, 5, 6, 7, 5, 4, 3, 9]\n",
      "[(3, 3), (5, 3)]\n"
     ]
    }
   ],
   "source": [
    "digit_count_list = [3,5]\n",
    "x.count_num_of_digits(digit_count_list)"
   ]
  },
  {
   "cell_type": "code",
   "execution_count": 4,
   "id": "b221bdc3",
   "metadata": {},
   "outputs": [
    {
     "name": "stdout",
     "output_type": "stream",
     "text": [
      "[('h', 2), ('e', 1), ('l', 3), ('o', 1), (1, 3), (2, 1), (3, 1), (5, 1), (4, 1), (6, 1), ('a', 2), ('m', 1), ('y', 1), ('n', 1), ('d', 1)]\n"
     ]
    }
   ],
   "source": [
    "listto_count = [\"hello\",1,1,1,2,3,5,4,6,\"amy\",\"and\",\"h\",\"l\"]\n",
    "listto_count = dataorganization(listto_count)\n",
    "listto_count.count_freq_of_characters()"
   ]
  }
 ],
 "metadata": {
  "kernelspec": {
   "display_name": "Python 3 (ipykernel)",
   "language": "python",
   "name": "python3"
  },
  "language_info": {
   "codemirror_mode": {
    "name": "ipython",
    "version": 3
   },
   "file_extension": ".py",
   "mimetype": "text/x-python",
   "name": "python",
   "nbconvert_exporter": "python",
   "pygments_lexer": "ipython3",
   "version": "3.9.7"
  }
 },
 "nbformat": 4,
 "nbformat_minor": 5
}
