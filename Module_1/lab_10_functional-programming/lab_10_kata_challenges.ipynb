{
 "cells": [
  {
   "cell_type": "code",
   "execution_count": 20,
   "id": "002eff68",
   "metadata": {},
   "outputs": [
    {
     "ename": "KeyboardInterrupt",
     "evalue": "Interrupted by user",
     "output_type": "error",
     "traceback": [
      "\u001b[1;31m---------------------------------------------------------------------------\u001b[0m",
      "\u001b[1;31mKeyboardInterrupt\u001b[0m                         Traceback (most recent call last)",
      "\u001b[1;32m~\\AppData\\Local\\Temp/ipykernel_16320/2030706993.py\u001b[0m in \u001b[0;36m<module>\u001b[1;34m\u001b[0m\n\u001b[0;32m      9\u001b[0m     \u001b[1;32melse\u001b[0m\u001b[1;33m:\u001b[0m\u001b[1;33m\u001b[0m\u001b[1;33m\u001b[0m\u001b[0m\n\u001b[0;32m     10\u001b[0m         \u001b[0mprint\u001b[0m\u001b[1;33m(\u001b[0m\u001b[1;34m\"all sheep are there\"\u001b[0m\u001b[1;33m)\u001b[0m\u001b[1;33m\u001b[0m\u001b[1;33m\u001b[0m\u001b[0m\n\u001b[1;32m---> 11\u001b[1;33m \u001b[0mcounting_sheep\u001b[0m\u001b[1;33m(\u001b[0m\u001b[1;33m)\u001b[0m\u001b[1;33m\u001b[0m\u001b[1;33m\u001b[0m\u001b[0m\n\u001b[0m",
      "\u001b[1;32m~\\AppData\\Local\\Temp/ipykernel_16320/2030706993.py\u001b[0m in \u001b[0;36mcounting_sheep\u001b[1;34m()\u001b[0m\n\u001b[0;32m      2\u001b[0m \u001b[1;33m\u001b[0m\u001b[0m\n\u001b[0;32m      3\u001b[0m \u001b[1;32mdef\u001b[0m \u001b[0mcounting_sheep\u001b[0m\u001b[1;33m(\u001b[0m\u001b[1;33m)\u001b[0m\u001b[1;33m:\u001b[0m\u001b[1;33m\u001b[0m\u001b[1;33m\u001b[0m\u001b[0m\n\u001b[1;32m----> 4\u001b[1;33m     \u001b[0ma\u001b[0m \u001b[1;33m=\u001b[0m \u001b[0mlist\u001b[0m\u001b[1;33m(\u001b[0m\u001b[0mmap\u001b[0m\u001b[1;33m(\u001b[0m\u001b[0mstr\u001b[0m\u001b[1;33m,\u001b[0m\u001b[0minput\u001b[0m\u001b[1;33m(\u001b[0m\u001b[1;34m\"PLease input the names of sheeps normally present with spaces in between: \"\u001b[0m\u001b[1;33m)\u001b[0m\u001b[1;33m.\u001b[0m\u001b[0mstrip\u001b[0m\u001b[1;33m(\u001b[0m\u001b[1;33m)\u001b[0m\u001b[1;33m.\u001b[0m\u001b[0msplit\u001b[0m\u001b[1;33m(\u001b[0m\u001b[1;33m)\u001b[0m\u001b[1;33m)\u001b[0m\u001b[1;33m)\u001b[0m\u001b[1;33m\u001b[0m\u001b[1;33m\u001b[0m\u001b[0m\n\u001b[0m\u001b[0;32m      5\u001b[0m     \u001b[0mb\u001b[0m \u001b[1;33m=\u001b[0m \u001b[0mlist\u001b[0m\u001b[1;33m(\u001b[0m\u001b[0mmap\u001b[0m\u001b[1;33m(\u001b[0m\u001b[0mstr\u001b[0m\u001b[1;33m,\u001b[0m\u001b[0minput\u001b[0m\u001b[1;33m(\u001b[0m\u001b[1;34m\"Please input the names of sheep present now with spaces inbetween: \"\u001b[0m\u001b[1;33m)\u001b[0m\u001b[1;33m.\u001b[0m\u001b[0mstrip\u001b[0m\u001b[1;33m(\u001b[0m\u001b[1;33m)\u001b[0m\u001b[1;33m.\u001b[0m\u001b[0msplit\u001b[0m\u001b[1;33m(\u001b[0m\u001b[1;33m)\u001b[0m\u001b[1;33m)\u001b[0m\u001b[1;33m)\u001b[0m\u001b[1;33m\u001b[0m\u001b[1;33m\u001b[0m\u001b[0m\n\u001b[0;32m      6\u001b[0m     \u001b[1;32mif\u001b[0m \u001b[0mlen\u001b[0m\u001b[1;33m(\u001b[0m\u001b[0ma\u001b[0m\u001b[1;33m)\u001b[0m \u001b[1;33m!=\u001b[0m \u001b[0mlen\u001b[0m\u001b[1;33m(\u001b[0m\u001b[0mb\u001b[0m\u001b[1;33m)\u001b[0m\u001b[1;33m:\u001b[0m\u001b[1;33m\u001b[0m\u001b[1;33m\u001b[0m\u001b[0m\n",
      "\u001b[1;32m~\\anaconda3\\lib\\site-packages\\ipykernel\\kernelbase.py\u001b[0m in \u001b[0;36mraw_input\u001b[1;34m(self, prompt)\u001b[0m\n\u001b[0;32m   1004\u001b[0m                 \u001b[1;34m\"raw_input was called, but this frontend does not support input requests.\"\u001b[0m\u001b[1;33m\u001b[0m\u001b[1;33m\u001b[0m\u001b[0m\n\u001b[0;32m   1005\u001b[0m             )\n\u001b[1;32m-> 1006\u001b[1;33m         return self._input_request(\n\u001b[0m\u001b[0;32m   1007\u001b[0m             \u001b[0mstr\u001b[0m\u001b[1;33m(\u001b[0m\u001b[0mprompt\u001b[0m\u001b[1;33m)\u001b[0m\u001b[1;33m,\u001b[0m\u001b[1;33m\u001b[0m\u001b[1;33m\u001b[0m\u001b[0m\n\u001b[0;32m   1008\u001b[0m             \u001b[0mself\u001b[0m\u001b[1;33m.\u001b[0m\u001b[0m_parent_ident\u001b[0m\u001b[1;33m[\u001b[0m\u001b[1;34m\"shell\"\u001b[0m\u001b[1;33m]\u001b[0m\u001b[1;33m,\u001b[0m\u001b[1;33m\u001b[0m\u001b[1;33m\u001b[0m\u001b[0m\n",
      "\u001b[1;32m~\\anaconda3\\lib\\site-packages\\ipykernel\\kernelbase.py\u001b[0m in \u001b[0;36m_input_request\u001b[1;34m(self, prompt, ident, parent, password)\u001b[0m\n\u001b[0;32m   1049\u001b[0m             \u001b[1;32mexcept\u001b[0m \u001b[0mKeyboardInterrupt\u001b[0m\u001b[1;33m:\u001b[0m\u001b[1;33m\u001b[0m\u001b[1;33m\u001b[0m\u001b[0m\n\u001b[0;32m   1050\u001b[0m                 \u001b[1;31m# re-raise KeyboardInterrupt, to truncate traceback\u001b[0m\u001b[1;33m\u001b[0m\u001b[1;33m\u001b[0m\u001b[0m\n\u001b[1;32m-> 1051\u001b[1;33m                 \u001b[1;32mraise\u001b[0m \u001b[0mKeyboardInterrupt\u001b[0m\u001b[1;33m(\u001b[0m\u001b[1;34m\"Interrupted by user\"\u001b[0m\u001b[1;33m)\u001b[0m \u001b[1;32mfrom\u001b[0m \u001b[1;32mNone\u001b[0m\u001b[1;33m\u001b[0m\u001b[1;33m\u001b[0m\u001b[0m\n\u001b[0m\u001b[0;32m   1052\u001b[0m             \u001b[1;32mexcept\u001b[0m \u001b[0mException\u001b[0m\u001b[1;33m:\u001b[0m\u001b[1;33m\u001b[0m\u001b[1;33m\u001b[0m\u001b[0m\n\u001b[0;32m   1053\u001b[0m                 \u001b[0mself\u001b[0m\u001b[1;33m.\u001b[0m\u001b[0mlog\u001b[0m\u001b[1;33m.\u001b[0m\u001b[0mwarning\u001b[0m\u001b[1;33m(\u001b[0m\u001b[1;34m\"Invalid Message:\"\u001b[0m\u001b[1;33m,\u001b[0m \u001b[0mexc_info\u001b[0m\u001b[1;33m=\u001b[0m\u001b[1;32mTrue\u001b[0m\u001b[1;33m)\u001b[0m\u001b[1;33m\u001b[0m\u001b[1;33m\u001b[0m\u001b[0m\n",
      "\u001b[1;31mKeyboardInterrupt\u001b[0m: Interrupted by user"
     ]
    }
   ],
   "source": [
    "#counting sheep\n",
    "\n",
    "def counting_sheep():\n",
    "    a = list(map(str,input(\"PLease input the names of sheeps normally present with spaces in between: \").strip().split()))\n",
    "    b = list(map(str,input(\"Please input the names of sheep present now with spaces inbetween: \").strip().split()))     \n",
    "    if len(a) != len(b):\n",
    "        c = len(a)-len(b)\n",
    "        print(len(b), \"sheep is/are there\", c, \"is are missing\")\n",
    "    else:\n",
    "        print(\"all sheep are there\")\n",
    "counting_sheep()"
   ]
  },
  {
   "cell_type": "code",
   "execution_count": null,
   "id": "5d284cab",
   "metadata": {},
   "outputs": [],
   "source": [
    "x = [True,  True,  True,  False,\n",
    "  True,  True,  True,  True ,\n",
    "  True,  False, True,  False,\n",
    "  True,  False, False, True ,\n",
    "  True,  True,  True,  True ,\n",
    "  False, False, True,  True]\n",
    "def count_sheep(lst):\n",
    "    a = lst.count(False)\n",
    "    b = lst.count(True)\n",
    "    return(print(f\"{a} sheeps are missing and {b} sheeps are there\"))\n",
    "count_sheep(x)\n",
    "        "
   ]
  },
  {
   "cell_type": "code",
   "execution_count": 19,
   "id": "00c90c80",
   "metadata": {},
   "outputs": [
    {
     "name": "stdout",
     "output_type": "stream",
     "text": [
      "PLease input the numbers: 1 2 3 4 5 6 7 8 9 0\n",
      "[1, 2, 3, 4, 5, 6, 7, 8, 9, 0]\n"
     ]
    },
    {
     "data": {
      "text/plain": [
       "[1, 3, 5, 7, 9]"
      ]
     },
     "execution_count": 19,
     "metadata": {},
     "output_type": "execute_result"
    }
   ],
   "source": [
    "#removing every second number from array\n",
    "def removing_2nd_numbers():\n",
    "    a = list(map(int,input(\"PLease input the numbers: \").strip().split()))\n",
    "    print(a)\n",
    "    c = []\n",
    "    for x in a:\n",
    "        b = a.index(x)\n",
    "        if b%2 == 0:\n",
    "            c.append(x)\n",
    "    return(c)\n",
    "removing_2nd_numbers()\n"
   ]
  },
  {
   "cell_type": "code",
   "execution_count": 22,
   "id": "a4a0a59c",
   "metadata": {},
   "outputs": [
    {
     "name": "stdout",
     "output_type": "stream",
     "text": [
      "Please input the number: 1234\n",
      "[4, 3, 2, 1]\n"
     ]
    }
   ],
   "source": [
    "#reversing number\n",
    "x = input(\"Please input the number: \")\n",
    "def number_reverse(a):\n",
    "    a = list(a)\n",
    "    a.reverse()\n",
    "    final_result = [int(i) for i in a]\n",
    "    print(final_result)\n",
    "        \n",
    "    \n",
    "number_reverse(x)  "
   ]
  },
  {
   "cell_type": "code",
   "execution_count": 15,
   "id": "d70173ee",
   "metadata": {},
   "outputs": [
    {
     "name": "stdout",
     "output_type": "stream",
     "text": [
      "Please input the number: 123\n",
      "123\n",
      "[1, 2, 3]\n",
      "[1, 4, 9]\n",
      "149\n"
     ]
    },
    {
     "data": {
      "text/plain": [
       "149"
      ]
     },
     "execution_count": 15,
     "metadata": {},
     "output_type": "execute_result"
    }
   ],
   "source": [
    "#square every digit\n",
    "x = int(input(\"Please input the number: \"))\n",
    "print(x)\n",
    "\n",
    "def squareeverydigit(a):\n",
    "    #covert to string\n",
    "    #create list of number strings\n",
    "    strlst = list(str(a))\n",
    "    #create list with numbers\n",
    "    #for all elements in a, convert to int and add to number list\n",
    "    int_list = [int(x) for x in strlst]\n",
    "    #list for squarred values\n",
    "    square_list = []\n",
    "    for x in int_list:\n",
    "        b = x*x\n",
    "        square_list.append(b)\n",
    "    #now convert back to string to join\n",
    "    #now join\n",
    "    out = \"\".join([str(x) for x in square_list])\n",
    "    #convert back to int\n",
    "    out = int(out)\n",
    "    return(out)\n",
    "squareeverydigit(x)\n",
    "    \n",
    "        \n",
    "    \n",
    "    \n"
   ]
  },
  {
   "cell_type": "code",
   "execution_count": null,
   "id": "f63d576d",
   "metadata": {},
   "outputs": [],
   "source": [
    "#square every digit\n",
    "x = int(input(\"Please input the number: \"))\n",
    "print(x)\n",
    "\n",
    "def squareeverydigit(a):\n",
    "    strlst = list(str(a))\n",
    "    int_list = [int(x) for x in strlst]\n",
    "    square_list = []\n",
    "    for x in int_list:\n",
    "        b = x*x\n",
    "        square_list.append(b)\n",
    "    out = \"\".join([str(x) for x in square_list])\n",
    "    return int(out)\n",
    "squareeverydigit(x)"
   ]
  },
  {
   "cell_type": "code",
   "execution_count": 23,
   "id": "68a7c463",
   "metadata": {},
   "outputs": [],
   "source": [
    "def sqevdig(b):\n",
    "    num_str = str(b)\n",
    "    result = ''\n",
    "    for i in num_str:\n",
    "        sqr = (int(i))**2\n",
    "        result += str(sqr)\n",
    "    return int(result)"
   ]
  },
  {
   "cell_type": "code",
   "execution_count": null,
   "id": "9782d753",
   "metadata": {},
   "outputs": [],
   "source": [
    "#challenge 5"
   ]
  },
  {
   "cell_type": "code",
   "execution_count": null,
   "id": "67e01992",
   "metadata": {},
   "outputs": [],
   "source": [
    "x = [1,4,555,6,7]\n",
    "i = [4,5]\n",
    "def count_num_of_digits(lst,lst_digits_shallc):\n",
    "    print(lst)\n",
    "    str_num = []\n",
    "    for item in lst:\n",
    "        item = str(item)\n",
    "        if len(item) > 1:\n",
    "            item = list(item)\n",
    "            for a in item:\n",
    "                str_num.append(a)\n",
    "        else:\n",
    "            str_num.append(item)  \n",
    "    #now we have list with all string digits\n",
    "    #now we have to convert strings into digits\n",
    "    digit_num = []\n",
    "    for elem in str_num:\n",
    "        elem = int(elem)\n",
    "        digit_num.append(elem)\n",
    "    \n",
    "    #list for tuples with numbers and thei frequencies\n",
    "    list_with_tuples = []\n",
    "    digit_already_counted = []\n",
    "    for nm in digit_num:\n",
    "        if nm in lst_digits_shallc and nm not in digit_already_counted:\n",
    "            freq = digit_num.count(nm)\n",
    "            t1 = (nm,freq)\n",
    "            list_with_tuples.append(t1)\n",
    "            digit_already_counted.append(nm) \n",
    "    return(list_with_tuples)\n",
    "count_num_of_digits(x,i)\n"
   ]
  },
  {
   "cell_type": "code",
   "execution_count": 24,
   "id": "a7632913",
   "metadata": {},
   "outputs": [
    {
     "name": "stdout",
     "output_type": "stream",
     "text": [
      "[(4, 1), (5, 3)]\n"
     ]
    }
   ],
   "source": [
    "#shorten code\n",
    "x = [1,4,555,6,7]\n",
    "i = [4,5]\n",
    "def count_digits(inplist,digits):\n",
    "    count_list = []\n",
    "    int_str = \"\".join([str(x) for x in inplist])\n",
    "    for a in digits:\n",
    "        count_list.append((a,int_str.count(str(a))))\n",
    "    print(count_list)\n",
    "\n",
    "count_digits(x,i)      \n",
    "        "
   ]
  },
  {
   "cell_type": "code",
   "execution_count": null,
   "id": "12198b45",
   "metadata": {},
   "outputs": [],
   "source": [
    "\n",
    "            "
   ]
  },
  {
   "cell_type": "code",
   "execution_count": null,
   "id": "d19b853e",
   "metadata": {},
   "outputs": [],
   "source": []
  }
 ],
 "metadata": {
  "kernelspec": {
   "display_name": "Python 3 (ipykernel)",
   "language": "python",
   "name": "python3"
  },
  "language_info": {
   "codemirror_mode": {
    "name": "ipython",
    "version": 3
   },
   "file_extension": ".py",
   "mimetype": "text/x-python",
   "name": "python",
   "nbconvert_exporter": "python",
   "pygments_lexer": "ipython3",
   "version": "3.9.7"
  }
 },
 "nbformat": 4,
 "nbformat_minor": 5
}
