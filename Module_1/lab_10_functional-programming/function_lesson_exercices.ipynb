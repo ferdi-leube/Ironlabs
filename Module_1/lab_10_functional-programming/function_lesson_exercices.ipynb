{
 "cells": [
  {
   "cell_type": "code",
   "execution_count": 1,
   "id": "ead02884",
   "metadata": {},
   "outputs": [
    {
     "name": "stdout",
     "output_type": "stream",
     "text": [
      "2\n",
      "2\n"
     ]
    },
    {
     "data": {
      "text/plain": [
       "4"
      ]
     },
     "execution_count": 1,
     "metadata": {},
     "output_type": "execute_result"
    }
   ],
   "source": [
    "def return_2():\n",
    "    n=2\n",
    "    print(2)\n",
    "    m = n*2\n",
    "    return(m)\n",
    "return_2()\n",
    "y = return_2()\n",
    "y"
   ]
  },
  {
   "cell_type": "code",
   "execution_count": 2,
   "id": "cd060a96",
   "metadata": {},
   "outputs": [
    {
     "data": {
      "text/plain": [
       "8"
      ]
     },
     "execution_count": 2,
     "metadata": {},
     "output_type": "execute_result"
    }
   ],
   "source": [
    "def t1(x):\n",
    "    n = x*2\n",
    "    return(n)\n",
    "x = t1(2)\n",
    "t1(4)"
   ]
  },
  {
   "cell_type": "code",
   "execution_count": 13,
   "id": "b702283b",
   "metadata": {},
   "outputs": [
    {
     "name": "stdout",
     "output_type": "stream",
     "text": [
      "6\n",
      "12\n",
      "18\n",
      "24\n",
      "30\n",
      "36\n",
      "42\n",
      "48\n",
      "54\n",
      "60\n"
     ]
    }
   ],
   "source": [
    "def multiplier(a):\n",
    "    for i in range(1,11): \n",
    "        print(a*i)\n",
    "        \n",
    "multiplier(6)"
   ]
  },
  {
   "cell_type": "code",
   "execution_count": 18,
   "id": "76b2c9d9",
   "metadata": {},
   "outputs": [
    {
     "name": "stdout",
     "output_type": "stream",
     "text": [
      "Hello, Ferdi\n",
      "Please input a number: 8\n",
      "8\n",
      "16\n",
      "24\n",
      "32\n",
      "40\n",
      "48\n",
      "56\n",
      "64\n",
      "72\n",
      "80\n"
     ]
    }
   ],
   "source": [
    "def input_name_and_calculate(name):\n",
    "    print(f\"Hello, {name}\")\n",
    "    x = int(input(\"Please input a number: \"))\n",
    "    multiplier(x)\n",
    "\n",
    "input_name_and_calculate(\"Ferdi\")\n",
    "    "
   ]
  },
  {
   "cell_type": "code",
   "execution_count": 20,
   "id": "3f474334",
   "metadata": {},
   "outputs": [
    {
     "name": "stdout",
     "output_type": "stream",
     "text": [
      "Hello Ferdi !!\n",
      "What a beautiful day today.\n"
     ]
    }
   ],
   "source": [
    "def sayhello(name):\n",
    "    print(f\"Hello {name} !!\")\n",
    "    print(\"What a beautiful day today.\")\n",
    "sayhello(\"Ferdi\")"
   ]
  },
  {
   "cell_type": "code",
   "execution_count": 21,
   "id": "fdfe500d",
   "metadata": {},
   "outputs": [
    {
     "data": {
      "text/plain": [
       "10"
      ]
     },
     "execution_count": 21,
     "metadata": {},
     "output_type": "execute_result"
    }
   ],
   "source": [
    "def f(x):\n",
    "    a = x**2+1\n",
    "    return(a)\n",
    "f(3)"
   ]
  },
  {
   "cell_type": "code",
   "execution_count": 23,
   "id": "f7a71d66",
   "metadata": {},
   "outputs": [
    {
     "data": {
      "text/plain": [
       "15000.0"
      ]
     },
     "execution_count": 23,
     "metadata": {},
     "output_type": "execute_result"
    }
   ],
   "source": [
    "\n",
    "def salary_eq_tax(salary, tax_list):\n",
    "    salary = int(salary)\n",
    "    if salary > 1000000:\n",
    "        a = (salary*tax_list[0])/100\n",
    "    else:\n",
    "        a = (salary*tax_list[1])/100\n",
    "    return(a)\n",
    "\n",
    "tax_list = [40,30]\n",
    "sal = 50000\n",
    "salary_eq_tax(sal, tax_list)       "
   ]
  },
  {
   "cell_type": "code",
   "execution_count": null,
   "id": "ec8d4f1e",
   "metadata": {},
   "outputs": [],
   "source": [
    "#  *args --> unknown number of input arguments\n",
    "#  *kwargs --> unknown input, will take dictionary as an input"
   ]
  },
  {
   "cell_type": "code",
   "execution_count": null,
   "id": "c8e356b5",
   "metadata": {},
   "outputs": [],
   "source": [
    "# kann make local variable in function globally visible by defining it as a global variablecd I"
   ]
  }
 ],
 "metadata": {
  "kernelspec": {
   "display_name": "Python 3 (ipykernel)",
   "language": "python",
   "name": "python3"
  },
  "language_info": {
   "codemirror_mode": {
    "name": "ipython",
    "version": 3
   },
   "file_extension": ".py",
   "mimetype": "text/x-python",
   "name": "python",
   "nbconvert_exporter": "python",
   "pygments_lexer": "ipython3",
   "version": "3.9.7"
  }
 },
 "nbformat": 4,
 "nbformat_minor": 5
}
