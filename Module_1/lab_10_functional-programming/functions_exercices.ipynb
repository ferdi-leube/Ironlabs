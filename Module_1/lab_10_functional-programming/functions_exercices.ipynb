{
 "cells": [
  {
   "cell_type": "code",
   "execution_count": null,
   "id": "b86aad42",
   "metadata": {},
   "outputs": [],
   "source": [
    "def list2string(lst):\n",
    "    string = ' '.join(lst)\n",
    "    return string\n",
    "\n",
    "to_string = ['John', 'was', 'a', 'man', 'of', 'many', 'talents']\n",
    "list2string(to_string)\n",
    "\n",
    "'John was a man of many talents'\n"
   ]
  },
  {
   "cell_type": "code",
   "execution_count": null,
   "id": "c02610fe",
   "metadata": {},
   "outputs": [],
   "source": [
    "import pandas as pd\n",
    "\n",
    "data = pd.read_csv('./data sets/vehicles/vehicles.csv')\n",
    "\n",
    "def get_means(df):\n",
    "    numeric = df._get_numeric_data()\n",
    "    means = pd.DataFrame(numeric.mean()).reset_index()\n",
    "    means.columns = ['Column', 'Mean']\n",
    "    return means\n",
    "\n",
    "mean_df = get_means(data)\n",
    "mean_df\n"
   ]
  }
 ],
 "metadata": {
  "kernelspec": {
   "display_name": "Python 3 (ipykernel)",
   "language": "python",
   "name": "python3"
  },
  "language_info": {
   "codemirror_mode": {
    "name": "ipython",
    "version": 3
   },
   "file_extension": ".py",
   "mimetype": "text/x-python",
   "name": "python",
   "nbconvert_exporter": "python",
   "pygments_lexer": "ipython3",
   "version": "3.9.7"
  }
 },
 "nbformat": 4,
 "nbformat_minor": 5
}
