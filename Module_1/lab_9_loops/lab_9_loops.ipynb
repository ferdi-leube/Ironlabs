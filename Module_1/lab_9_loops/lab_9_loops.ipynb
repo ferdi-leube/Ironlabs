{
 "cells": [
  {
   "cell_type": "markdown",
   "metadata": {},
   "source": [
    "# Loops\n",
    "\n",
    "Complete the following set of exercises to solidify your knowledge for Loops."
   ]
  },
  {
   "cell_type": "markdown",
   "metadata": {},
   "source": [
    "#### 1. Print first 10 natural numbers using while loop"
   ]
  },
  {
   "cell_type": "code",
   "execution_count": 1,
   "metadata": {},
   "outputs": [
    {
     "name": "stdout",
     "output_type": "stream",
     "text": [
      "1\n",
      "2\n",
      "3\n",
      "4\n",
      "5\n",
      "6\n",
      "7\n",
      "8\n",
      "9\n",
      "10\n"
     ]
    }
   ],
   "source": [
    "i=1\n",
    "while i<11:\n",
    "    print(i)\n",
    "    i +=1"
   ]
  },
  {
   "cell_type": "markdown",
   "metadata": {},
   "source": [
    "#### 2. Display numbers from a list using loop\n",
    "Write a program to display only those numbers from a list that satisfy the following conditions\n",
    "\n",
    "The number must be divisible by five\n",
    "\n",
    "If the number is greater than 150, then skip it and move to the next number\n",
    "\n",
    "If the number is greater than 500, then stop the loop\n",
    "\n",
    "numbers = [12, 75, 150, 180, 145, 525, 50]"
   ]
  },
  {
   "cell_type": "code",
   "execution_count": 1,
   "metadata": {},
   "outputs": [
    {
     "name": "stdout",
     "output_type": "stream",
     "text": [
      "75\n",
      "150\n",
      "145\n"
     ]
    }
   ],
   "source": [
    "numbers = [12, 75, 150, 180, 145, 525, 50]\n",
    "for x in numbers:\n",
    "    if x > 500:\n",
    "        break\n",
    "    elif x > 150:\n",
    "        continue\n",
    "    elif x%5 == 0:\n",
    "        print(x)"
   ]
  },
  {
   "cell_type": "markdown",
   "metadata": {},
   "source": [
    "#### 3.Write a Python program to check the validity of a password (input from users).\n",
    "\n",
    "Validation :\n",
    "\n",
    "At least 1 letter between [a-z] and 1 letter between [A-Z].\n",
    "\n",
    "At least 1 number between [0-9].\n",
    "\n",
    "At least 1 character from [$#@].\n",
    "\n",
    "Minimum length 6 characters.\n",
    "\n",
    "Maximum length 16 characters."
   ]
  },
  {
   "cell_type": "code",
   "execution_count": 2,
   "metadata": {},
   "outputs": [
    {
     "ename": "KeyboardInterrupt",
     "evalue": "Interrupted by user",
     "output_type": "error",
     "traceback": [
      "\u001b[1;31m---------------------------------------------------------------------------\u001b[0m",
      "\u001b[1;31mKeyboardInterrupt\u001b[0m                         Traceback (most recent call last)",
      "\u001b[1;32m~\\AppData\\Local\\Temp/ipykernel_14728/2747282604.py\u001b[0m in \u001b[0;36m<module>\u001b[1;34m\u001b[0m\n\u001b[0;32m      1\u001b[0m \u001b[1;31m#set up input\u001b[0m\u001b[1;33m\u001b[0m\u001b[1;33m\u001b[0m\u001b[0m\n\u001b[1;32m----> 2\u001b[1;33m \u001b[0mx\u001b[0m \u001b[1;33m=\u001b[0m \u001b[0mstr\u001b[0m\u001b[1;33m(\u001b[0m\u001b[0minput\u001b[0m\u001b[1;33m(\u001b[0m\u001b[1;34m\"Please enter the password you want to check for validity: \"\u001b[0m\u001b[1;33m)\u001b[0m\u001b[1;33m)\u001b[0m\u001b[1;33m\u001b[0m\u001b[1;33m\u001b[0m\u001b[0m\n\u001b[0m\u001b[0;32m      3\u001b[0m \u001b[1;33m\u001b[0m\u001b[0m\n\u001b[0;32m      4\u001b[0m \u001b[1;31m#convert to list\u001b[0m\u001b[1;33m\u001b[0m\u001b[1;33m\u001b[0m\u001b[0m\n\u001b[0;32m      5\u001b[0m \u001b[1;33m\u001b[0m\u001b[0m\n",
      "\u001b[1;32m~\\anaconda3\\lib\\site-packages\\ipykernel\\kernelbase.py\u001b[0m in \u001b[0;36mraw_input\u001b[1;34m(self, prompt)\u001b[0m\n\u001b[0;32m   1004\u001b[0m                 \u001b[1;34m\"raw_input was called, but this frontend does not support input requests.\"\u001b[0m\u001b[1;33m\u001b[0m\u001b[1;33m\u001b[0m\u001b[0m\n\u001b[0;32m   1005\u001b[0m             )\n\u001b[1;32m-> 1006\u001b[1;33m         return self._input_request(\n\u001b[0m\u001b[0;32m   1007\u001b[0m             \u001b[0mstr\u001b[0m\u001b[1;33m(\u001b[0m\u001b[0mprompt\u001b[0m\u001b[1;33m)\u001b[0m\u001b[1;33m,\u001b[0m\u001b[1;33m\u001b[0m\u001b[1;33m\u001b[0m\u001b[0m\n\u001b[0;32m   1008\u001b[0m             \u001b[0mself\u001b[0m\u001b[1;33m.\u001b[0m\u001b[0m_parent_ident\u001b[0m\u001b[1;33m[\u001b[0m\u001b[1;34m\"shell\"\u001b[0m\u001b[1;33m]\u001b[0m\u001b[1;33m,\u001b[0m\u001b[1;33m\u001b[0m\u001b[1;33m\u001b[0m\u001b[0m\n",
      "\u001b[1;32m~\\anaconda3\\lib\\site-packages\\ipykernel\\kernelbase.py\u001b[0m in \u001b[0;36m_input_request\u001b[1;34m(self, prompt, ident, parent, password)\u001b[0m\n\u001b[0;32m   1049\u001b[0m             \u001b[1;32mexcept\u001b[0m \u001b[0mKeyboardInterrupt\u001b[0m\u001b[1;33m:\u001b[0m\u001b[1;33m\u001b[0m\u001b[1;33m\u001b[0m\u001b[0m\n\u001b[0;32m   1050\u001b[0m                 \u001b[1;31m# re-raise KeyboardInterrupt, to truncate traceback\u001b[0m\u001b[1;33m\u001b[0m\u001b[1;33m\u001b[0m\u001b[0m\n\u001b[1;32m-> 1051\u001b[1;33m                 \u001b[1;32mraise\u001b[0m \u001b[0mKeyboardInterrupt\u001b[0m\u001b[1;33m(\u001b[0m\u001b[1;34m\"Interrupted by user\"\u001b[0m\u001b[1;33m)\u001b[0m \u001b[1;32mfrom\u001b[0m \u001b[1;32mNone\u001b[0m\u001b[1;33m\u001b[0m\u001b[1;33m\u001b[0m\u001b[0m\n\u001b[0m\u001b[0;32m   1052\u001b[0m             \u001b[1;32mexcept\u001b[0m \u001b[0mException\u001b[0m\u001b[1;33m:\u001b[0m\u001b[1;33m\u001b[0m\u001b[1;33m\u001b[0m\u001b[0m\n\u001b[0;32m   1053\u001b[0m                 \u001b[0mself\u001b[0m\u001b[1;33m.\u001b[0m\u001b[0mlog\u001b[0m\u001b[1;33m.\u001b[0m\u001b[0mwarning\u001b[0m\u001b[1;33m(\u001b[0m\u001b[1;34m\"Invalid Message:\"\u001b[0m\u001b[1;33m,\u001b[0m \u001b[0mexc_info\u001b[0m\u001b[1;33m=\u001b[0m\u001b[1;32mTrue\u001b[0m\u001b[1;33m)\u001b[0m\u001b[1;33m\u001b[0m\u001b[1;33m\u001b[0m\u001b[0m\n",
      "\u001b[1;31mKeyboardInterrupt\u001b[0m: Interrupted by user"
     ]
    }
   ],
   "source": [
    "#set up input\n",
    "x = str(input(\"Please enter the password you want to check for validity: \"))\n",
    "\n",
    "#convert to list\n",
    "\n",
    "print(x)\n"
   ]
  },
  {
   "cell_type": "code",
   "execution_count": 18,
   "metadata": {},
   "outputs": [
    {
     "name": "stdout",
     "output_type": "stream",
     "text": [
      "Error: the password has to contain at least one capital letter\n",
      "Input new password: Ahfjght1\n",
      "Error: the password has to contain at least one character from @$#\n",
      "Input new password: dhfkghfzrtsgsfadA\n",
      "Error: the password has to contain at least one character from @$#\n",
      "Input new password: jdhdeeieiA1#\n",
      "Password is valide\n"
     ]
    }
   ],
   "source": [
    "#create loop for running all checks\n",
    "\n",
    "import re\n",
    "flag1 = False\n",
    "while flag1 == False:\n",
    "    #create check one by one\n",
    "    a = False\n",
    "    while a == False:\n",
    "        if len(re.findall(r\"[a-z]\",x)) < 1:\n",
    "            print(\"Error: the password has to contain at least one letter between a-z\")\n",
    "            x = input(\"Input new password: \")\n",
    "        else:\n",
    "                a = True\n",
    "    b = False\n",
    "    while b == False:\n",
    "        if len(re.findall(r\"[A-Z]\",x)) < 1:\n",
    "            print(\"Error: the password has to contain at least one capital letter\")\n",
    "            x = input(\"Input new password: \")\n",
    "        else:\n",
    "            b = True\n",
    "    c = False\n",
    "    while c == False:\n",
    "        if len(re.findall(r\"[0-9]\",x)) < 1:\n",
    "            print(\"Error: the password has to contain at least one number between 0-9\")\n",
    "            x = input(\"Input new password: \")\n",
    "        else:\n",
    "            c = True \n",
    "    f = False\n",
    "    while f == False:\n",
    "        if len(re.findall(r\"[$@#]\",x)) < 1:\n",
    "            print(\"Error: the password has to contain at least one character from @$#\")\n",
    "            x = input(\"Input new password: \")\n",
    "        else:\n",
    "            f = True\n",
    "    d = False\n",
    "    while d == False:\n",
    "        if len(x) > 16:\n",
    "            print(\"Error: the maximum length of the password is 16 characters\")\n",
    "            x = input(\"Input new password: \")\n",
    "        else:\n",
    "            d = True\n",
    "    e = False\n",
    "    while e == False:\n",
    "        if len(x) < 6:\n",
    "            print(\"Error: the minimum length of the password is 6 characters\")\n",
    "            x = input(\"Input new password: \")\n",
    "        else:\n",
    "            e = True\n",
    "            \n",
    "    #if all checks passed --> password is valid, leave loop\n",
    "    print(\"Password is valide\")\n",
    "    flag1 = True\n",
    "    "
   ]
  },
  {
   "cell_type": "code",
   "execution_count": 32,
   "metadata": {},
   "outputs": [
    {
     "name": "stdout",
     "output_type": "stream",
     "text": [
      "Please enter the password you want to check for validity: hello1\n",
      "hello1\n"
     ]
    }
   ],
   "source": [
    "#shorter other approach\n",
    "#set up input\n",
    "x = input(\"Please enter the password you want to check for validity: \")\n",
    "\n",
    "#convert to list\n",
    "x = str(x)\n",
    "print(x)\n"
   ]
  },
  {
   "cell_type": "code",
   "execution_count": 33,
   "metadata": {},
   "outputs": [
    {
     "name": "stdout",
     "output_type": "stream",
     "text": [
      "Error: the password has to contain at least one capital letter\n",
      "Input new password: helloA1\n",
      "Error: the password has to contain at least one character from @$#\n",
      "Input new password: hello1A#hdhfjeieofje\n",
      "Error: the maximum length of the password is 16 characters\n",
      "Input new password: hello1Akdjf\n",
      "Error: the password has to contain at least one character from @$#\n",
      "Input new password: hello1A#\n",
      "password is valide\n"
     ]
    }
   ],
   "source": [
    "#create loop for running all checks\n",
    "\n",
    "import re\n",
    "flag1 = False\n",
    "index = 0\n",
    "while flag1 == False:\n",
    "    #create check one by one\n",
    "    if len(re.findall(r\"[a-z]\",x)) < 1:\n",
    "        print(\"Error: the password has to contain at least one letter between a-z\")\n",
    "        x = input(\"Input new password: \")\n",
    "    else:\n",
    "        index = index +1\n",
    "    if len(re.findall(r\"[A-Z]\",x)) < 1:\n",
    "        print(\"Error: the password has to contain at least one capital letter\")\n",
    "        x = input(\"Input new password: \")\n",
    "    else:\n",
    "        index = index +1\n",
    "    if len(re.findall(r\"[0-9]\",x)) < 1:\n",
    "        print(\"Error: the password has to contain at least one number between 0-9\")\n",
    "        x = input(\"Input new password: \")\n",
    "    else:\n",
    "        index = index +1\n",
    "    if len(re.findall(r\"[$@#]\",x)) < 1:\n",
    "        print(\"Error: the password has to contain at least one character from @$#\")\n",
    "        x = input(\"Input new password: \")  \n",
    "    else:\n",
    "        index = index +1\n",
    "    if len(x) > 16:\n",
    "        print(\"Error: the maximum length of the password is 16 characters\")\n",
    "        x = input(\"Input new password: \")\n",
    "    else:\n",
    "        index = index +1\n",
    "    if len(x) < 6:\n",
    "        print(\"Error: the minimum length of the password is 6 characters\")\n",
    "        x = input(\"Input new password: \")\n",
    "    else:\n",
    "        index = index +1\n",
    "    if index >= 6 and index <= 10000000: #inperfect but irrational chance that user is that stupid to but in everything wrong after 10000000 error messages\n",
    "        print(\"password is valide\")\n",
    "        flag1 = True\n",
    "#version is shorter and fixes previous error of not checking if new password passes before condition"
   ]
  },
  {
   "cell_type": "code",
   "execution_count": null,
   "metadata": {},
   "outputs": [],
   "source": []
  },
  {
   "cell_type": "markdown",
   "metadata": {},
   "source": [
    "#### 4. Break the loop when x is 6, and see what happens with the else block"
   ]
  },
  {
   "cell_type": "code",
   "execution_count": 34,
   "metadata": {},
   "outputs": [
    {
     "name": "stdout",
     "output_type": "stream",
     "text": [
      "Please enter the password you want to check for validity: 6\n",
      "6\n"
     ]
    }
   ],
   "source": [
    "#shorter other approach\n",
    "#set up input\n",
    "x = input(\"Please enter the password you want to check for validity: \")\n",
    "\n",
    "#convert to list\n",
    "x = str(x)\n",
    "print(x)\n"
   ]
  },
  {
   "cell_type": "code",
   "execution_count": 36,
   "metadata": {},
   "outputs": [
    {
     "name": "stdout",
     "output_type": "stream",
     "text": [
      "Password is = 6\n"
     ]
    }
   ],
   "source": [
    "#create loop for running all checks\n",
    "\n",
    "import re\n",
    "flag1 = False\n",
    "index = 0\n",
    "while flag1 == False:\n",
    "    #create check one by one\n",
    "    if x == str(6):\n",
    "        print(\"Password is = 6\")\n",
    "        break\n",
    "    if len(re.findall(r\"[a-z]\",x)) < 1:\n",
    "        print(\"Error: the password has to contain at least one letter between a-z\")\n",
    "        x = input(\"Input new password: \")\n",
    "    else:\n",
    "        index = index +1\n",
    "    if len(re.findall(r\"[A-Z]\",x)) < 1:\n",
    "        print(\"Error: the password has to contain at least one capital letter\")\n",
    "        x = input(\"Input new password: \")\n",
    "    else:\n",
    "        index = index +1\n",
    "    if len(re.findall(r\"[0-9]\",x)) < 1:\n",
    "        print(\"Error: the password has to contain at least one number between 0-9\")\n",
    "        x = input(\"Input new password: \")\n",
    "    else:\n",
    "        index = index +1\n",
    "    if len(re.findall(r\"[$@#]\",x)) < 1:\n",
    "        print(\"Error: the password has to contain at least one character from @$#\")\n",
    "        x = input(\"Input new password: \")  \n",
    "    else:\n",
    "        index = index +1\n",
    "    if len(x) > 16:\n",
    "        print(\"Error: the maximum length of the password is 16 characters\")\n",
    "        x = input(\"Input new password: \")\n",
    "    else:\n",
    "        index = index +1\n",
    "    if len(x) < 6:\n",
    "        print(\"Error: the minimum length of the password is 6 characters\")\n",
    "        x = input(\"Input new password: \")\n",
    "    else:\n",
    "        index = index +1\n",
    "    if index >= 6 and index <= 10000000: #inperfect but irrational chance that user is that stupid to but in everything wrong after 10000000 error messages\n",
    "        print(\"password is valide\")\n",
    "        flag1 = True\n",
    "#version is shorter and fixes previous error of not checking if new password passes before condition"
   ]
  },
  {
   "cell_type": "code",
   "execution_count": null,
   "metadata": {},
   "outputs": [],
   "source": []
  },
  {
   "cell_type": "markdown",
   "metadata": {},
   "source": [
    "#### 5. Write a Python program to calculate the sum and average of n integer numbers (input from the user). Input 0 to finish.\n"
   ]
  },
  {
   "cell_type": "code",
   "execution_count": 3,
   "metadata": {},
   "outputs": [
    {
     "name": "stdout",
     "output_type": "stream",
     "text": [
      "Enter the numbers with spaces in between: 2 3 4 5 6 5 4 5 6 5 7 0 4 5 3 4 \n",
      "52\n",
      "The average of the numbers is:  3.25\n"
     ]
    }
   ],
   "source": [
    "a = list(map(int,input(\"Enter the numbers with spaces in between: \").strip().split()))\n",
    "sm = 0\n",
    "for item in a:\n",
    "    if item == 0:\n",
    "        break\n",
    "    else:\n",
    "        sm = sm + item\n",
    "print(sm)\n",
    "print(\"The average of the numbers is: \",sm/len(a))"
   ]
  },
  {
   "cell_type": "code",
   "execution_count": 5,
   "metadata": {},
   "outputs": [
    {
     "name": "stdout",
     "output_type": "stream",
     "text": [
      "4\n",
      "3\n",
      "4\n",
      "5\n",
      "6\n",
      "7\n",
      "6\n",
      "5\n",
      "4\n",
      "5\n",
      "6\n",
      "7\n",
      "8\n",
      "9\n",
      "0\n",
      "Average and Sum of the above numbers are:  5.642857142857143 79.0\n"
     ]
    }
   ],
   "source": [
    "count = 0\n",
    "sum = 0.0\n",
    "number = 1\n",
    "while number != 0:\n",
    "    number = int(input(\"\"))\n",
    "    sum = sum + number\n",
    "    count += 1\n",
    "if count == 0:\n",
    "    print(\"Input some numbers\")\n",
    "else:\n",
    "    print(\"Average and Sum of the above numbers are: \", sum / (count-1), sum)"
   ]
  }
 ],
 "metadata": {
  "kernelspec": {
   "display_name": "Python 3 (ipykernel)",
   "language": "python",
   "name": "python3"
  },
  "language_info": {
   "codemirror_mode": {
    "name": "ipython",
    "version": 3
   },
   "file_extension": ".py",
   "mimetype": "text/x-python",
   "name": "python",
   "nbconvert_exporter": "python",
   "pygments_lexer": "ipython3",
   "version": "3.9.7"
  }
 },
 "nbformat": 4,
 "nbformat_minor": 2
}
