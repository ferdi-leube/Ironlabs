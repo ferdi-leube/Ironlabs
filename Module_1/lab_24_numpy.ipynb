{
 "cells": [
  {
   "cell_type": "markdown",
   "metadata": {},
   "source": [
    "# Intrduction to NumPy\n",
    "\n",
    "\n",
    "#### 1. Import NumPy under the name np."
   ]
  },
  {
   "cell_type": "code",
   "execution_count": 2,
   "metadata": {},
   "outputs": [],
   "source": [
    "# your code here\n",
    "import numpy as np"
   ]
  },
  {
   "cell_type": "markdown",
   "metadata": {},
   "source": [
    "#### 2. Print your NumPy version."
   ]
  },
  {
   "cell_type": "code",
   "execution_count": 5,
   "metadata": {},
   "outputs": [
    {
     "name": "stdout",
     "output_type": "stream",
     "text": [
      " info(object=None, maxwidth=76,\n",
      "      output=<ipykernel.iostream.OutStream object at 0x000001CEF0D492E0>,\n",
      "      toplevel='numpy')\n",
      "\n",
      "Get help information for a function, class, or module.\n",
      "\n",
      "Parameters\n",
      "----------\n",
      "object : object or str, optional\n",
      "    Input object or name to get information about. If `object` is a\n",
      "    numpy object, its docstring is given. If it is a string, available\n",
      "    modules are searched for matching objects.  If None, information\n",
      "    about `info` itself is returned.\n",
      "maxwidth : int, optional\n",
      "    Printing width.\n",
      "output : file like object, optional\n",
      "    File like object that the output is written to, default is\n",
      "    ``stdout``.  The object has to be opened in 'w' or 'a' mode.\n",
      "toplevel : str, optional\n",
      "    Start search at this level.\n",
      "\n",
      "See Also\n",
      "--------\n",
      "source, lookfor\n",
      "\n",
      "Notes\n",
      "-----\n",
      "When used interactively with an object, ``np.info(obj)`` is equivalent\n",
      "to ``help(obj)`` on the Python prompt or ``obj?`` on the IPython\n",
      "prompt.\n",
      "\n",
      "Examples\n",
      "--------\n",
      ">>> np.info(np.polyval) # doctest: +SKIP\n",
      "   polyval(p, x)\n",
      "     Evaluate the polynomial p at x.\n",
      "     ...\n",
      "\n",
      "When using a string for `object` it is possible to get multiple results.\n",
      "\n",
      ">>> np.info('fft') # doctest: +SKIP\n",
      "     *** Found in numpy ***\n",
      "Core FFT routines\n",
      "...\n",
      "     *** Found in numpy.fft ***\n",
      " fft(a, n=None, axis=-1)\n",
      "...\n",
      "     *** Repeat reference found in numpy.fft.fftpack ***\n",
      "     *** Total of 3 references found. ***\n"
     ]
    }
   ],
   "source": [
    "# your code here\n",
    "np.info()"
   ]
  },
  {
   "cell_type": "markdown",
   "metadata": {},
   "source": [
    "#### 3. Generate a 2x3x5 3-dimensional array with random values. Assign the array to variable *a*.\n",
    "**Challenge**: there are at least three easy ways that use numpy to generate random arrays. How many ways can you find?"
   ]
  },
  {
   "cell_type": "code",
   "execution_count": 7,
   "metadata": {},
   "outputs": [
    {
     "data": {
      "text/plain": [
       "array([[[0.07072139, 0.72902613, 0.30102606, 0.17852937, 0.29223761],\n",
       "        [0.9050767 , 0.52327413, 0.77688575, 0.82430772, 0.03290923],\n",
       "        [0.68433149, 0.53126271, 0.40118318, 0.12979977, 0.79356757]],\n",
       "\n",
       "       [[0.74760867, 0.57134778, 0.91224543, 0.71890306, 0.63823787],\n",
       "        [0.14462357, 0.84584131, 0.44899149, 0.6808421 , 0.11948021],\n",
       "        [0.50097376, 0.87840702, 0.17547447, 0.62221978, 0.82434951]]])"
      ]
     },
     "execution_count": 7,
     "metadata": {},
     "output_type": "execute_result"
    }
   ],
   "source": [
    "# Method 1\n",
    "a = np.random.random((2,3,5))\n"
   ]
  },
  {
   "cell_type": "code",
   "execution_count": 8,
   "metadata": {},
   "outputs": [
    {
     "data": {
      "text/plain": [
       "array([[[ 0,  1,  2,  3,  4],\n",
       "        [ 5,  6,  7,  8,  9],\n",
       "        [10, 11, 12, 13, 14]],\n",
       "\n",
       "       [[15, 16, 17, 18, 19],\n",
       "        [20, 21, 22, 23, 24],\n",
       "        [25, 26, 27, 28, 29]]])"
      ]
     },
     "execution_count": 8,
     "metadata": {},
     "output_type": "execute_result"
    }
   ],
   "source": [
    "# Method 2\n",
    "np.arange(30).reshape(2,3,5)"
   ]
  },
  {
   "cell_type": "code",
   "execution_count": 10,
   "metadata": {},
   "outputs": [
    {
     "data": {
      "text/plain": [
       "array([[[0.07072139, 0.72902613, 0.30102606, 0.17852937, 0.29223761],\n",
       "        [0.9050767 , 0.52327413, 0.77688575, 0.82430772, 0.03290923],\n",
       "        [0.68433149, 0.53126271, 0.40118318, 0.12979977, 0.79356757]],\n",
       "\n",
       "       [[0.74760867, 0.57134778, 0.91224543, 0.71890306, 0.63823787],\n",
       "        [0.14462357, 0.84584131, 0.44899149, 0.6808421 , 0.11948021],\n",
       "        [0.50097376, 0.87840702, 0.17547447, 0.62221978, 0.82434951]]])"
      ]
     },
     "execution_count": 10,
     "metadata": {},
     "output_type": "execute_result"
    }
   ],
   "source": [
    "# Method 3\n",
    "np.empty((2,3,5))"
   ]
  },
  {
   "cell_type": "markdown",
   "metadata": {},
   "source": [
    "#### 4. Print *a*.\n"
   ]
  },
  {
   "cell_type": "code",
   "execution_count": 11,
   "metadata": {},
   "outputs": [
    {
     "name": "stdout",
     "output_type": "stream",
     "text": [
      "[[[0.07072139 0.72902613 0.30102606 0.17852937 0.29223761]\n",
      "  [0.9050767  0.52327413 0.77688575 0.82430772 0.03290923]\n",
      "  [0.68433149 0.53126271 0.40118318 0.12979977 0.79356757]]\n",
      "\n",
      " [[0.74760867 0.57134778 0.91224543 0.71890306 0.63823787]\n",
      "  [0.14462357 0.84584131 0.44899149 0.6808421  0.11948021]\n",
      "  [0.50097376 0.87840702 0.17547447 0.62221978 0.82434951]]]\n"
     ]
    }
   ],
   "source": [
    "# your code here\n",
    "print(a)"
   ]
  },
  {
   "cell_type": "markdown",
   "metadata": {},
   "source": [
    "#### 5. Create a 5x2x3 3-dimensional array with all values equaling 1. Assign the array to variable *b*."
   ]
  },
  {
   "cell_type": "code",
   "execution_count": 21,
   "metadata": {},
   "outputs": [],
   "source": [
    "# your code here\n",
    "b = np.full((5,3,2), 1)"
   ]
  },
  {
   "cell_type": "markdown",
   "metadata": {},
   "source": [
    "#### 6. Print *b*.\n"
   ]
  },
  {
   "cell_type": "code",
   "execution_count": 22,
   "metadata": {},
   "outputs": [
    {
     "name": "stdout",
     "output_type": "stream",
     "text": [
      "[[[1 1]\n",
      "  [1 1]\n",
      "  [1 1]]\n",
      "\n",
      " [[1 1]\n",
      "  [1 1]\n",
      "  [1 1]]\n",
      "\n",
      " [[1 1]\n",
      "  [1 1]\n",
      "  [1 1]]\n",
      "\n",
      " [[1 1]\n",
      "  [1 1]\n",
      "  [1 1]]\n",
      "\n",
      " [[1 1]\n",
      "  [1 1]\n",
      "  [1 1]]]\n"
     ]
    }
   ],
   "source": [
    "# your code here\n",
    "print(b)"
   ]
  },
  {
   "cell_type": "markdown",
   "metadata": {},
   "source": [
    "#### 7. Do *a* and *b* have the same size? How do you prove that in Python code?"
   ]
  },
  {
   "cell_type": "code",
   "execution_count": 14,
   "metadata": {},
   "outputs": [
    {
     "name": "stdout",
     "output_type": "stream",
     "text": [
      "True\n"
     ]
    }
   ],
   "source": [
    "# your code here\n",
    "print(b.size == a.size)"
   ]
  },
  {
   "cell_type": "markdown",
   "metadata": {},
   "source": [
    "#### 8. Are you able to add *a* and *b*? Why or why not?\n"
   ]
  },
  {
   "cell_type": "code",
   "execution_count": null,
   "metadata": {},
   "outputs": [],
   "source": [
    "# your answer here\n",
    "# you cannot add those two matrices because they do not have the same dimensions"
   ]
  },
  {
   "cell_type": "markdown",
   "metadata": {},
   "source": [
    "#### 9. Transpose *b* so that it has the same structure of *a* (i.e. become a 2x3x5 array). Assign the transposed array to variable *c*."
   ]
  },
  {
   "cell_type": "code",
   "execution_count": 23,
   "metadata": {},
   "outputs": [
    {
     "data": {
      "text/plain": [
       "array([[[1, 1, 1, 1, 1],\n",
       "        [1, 1, 1, 1, 1],\n",
       "        [1, 1, 1, 1, 1]],\n",
       "\n",
       "       [[1, 1, 1, 1, 1],\n",
       "        [1, 1, 1, 1, 1],\n",
       "        [1, 1, 1, 1, 1]]])"
      ]
     },
     "execution_count": 23,
     "metadata": {},
     "output_type": "execute_result"
    }
   ],
   "source": [
    "# your code here\n",
    "c = b.transpose()\n",
    "c"
   ]
  },
  {
   "cell_type": "markdown",
   "metadata": {},
   "source": [
    "#### 10. Try to add *a* and *c*. Now it should work. Assign the sum to variable *d*. But why does it work now?"
   ]
  },
  {
   "cell_type": "code",
   "execution_count": 25,
   "metadata": {},
   "outputs": [
    {
     "data": {
      "text/plain": [
       "array([[[1.07072139, 1.72902613, 1.30102606, 1.17852937, 1.29223761],\n",
       "        [1.9050767 , 1.52327413, 1.77688575, 1.82430772, 1.03290923],\n",
       "        [1.68433149, 1.53126271, 1.40118318, 1.12979977, 1.79356757]],\n",
       "\n",
       "       [[1.74760867, 1.57134778, 1.91224543, 1.71890306, 1.63823787],\n",
       "        [1.14462357, 1.84584131, 1.44899149, 1.6808421 , 1.11948021],\n",
       "        [1.50097376, 1.87840702, 1.17547447, 1.62221978, 1.82434951]]])"
      ]
     },
     "execution_count": 25,
     "metadata": {},
     "output_type": "execute_result"
    }
   ],
   "source": [
    "# your code/answer here\n",
    "d = np.add(a,c)\n",
    "d"
   ]
  },
  {
   "cell_type": "markdown",
   "metadata": {},
   "source": [
    "#### 11. Print *a* and *d*. Notice the difference and relation of the two array in terms of the values? Explain."
   ]
  },
  {
   "cell_type": "code",
   "execution_count": 26,
   "metadata": {},
   "outputs": [
    {
     "name": "stdout",
     "output_type": "stream",
     "text": [
      "[[[0.07072139 0.72902613 0.30102606 0.17852937 0.29223761]\n",
      "  [0.9050767  0.52327413 0.77688575 0.82430772 0.03290923]\n",
      "  [0.68433149 0.53126271 0.40118318 0.12979977 0.79356757]]\n",
      "\n",
      " [[0.74760867 0.57134778 0.91224543 0.71890306 0.63823787]\n",
      "  [0.14462357 0.84584131 0.44899149 0.6808421  0.11948021]\n",
      "  [0.50097376 0.87840702 0.17547447 0.62221978 0.82434951]]]\n",
      "[[[1.07072139 1.72902613 1.30102606 1.17852937 1.29223761]\n",
      "  [1.9050767  1.52327413 1.77688575 1.82430772 1.03290923]\n",
      "  [1.68433149 1.53126271 1.40118318 1.12979977 1.79356757]]\n",
      "\n",
      " [[1.74760867 1.57134778 1.91224543 1.71890306 1.63823787]\n",
      "  [1.14462357 1.84584131 1.44899149 1.6808421  1.11948021]\n",
      "  [1.50097376 1.87840702 1.17547447 1.62221978 1.82434951]]]\n"
     ]
    }
   ],
   "source": [
    "# your code/answer here\n",
    "print(a)\n",
    "print(d)\n",
    "\n",
    "# ä yes, every value in d is on one full value grater than the equivalent value in a and why, well because we have just added to every value a +1 from the all ones matrix"
   ]
  },
  {
   "cell_type": "markdown",
   "metadata": {},
   "source": [
    "#### 12. Multiply *a* and *c*. Assign the result to *e*."
   ]
  },
  {
   "cell_type": "code",
   "execution_count": 31,
   "metadata": {},
   "outputs": [
    {
     "data": {
      "text/plain": [
       "array([[[0.07072139, 0.72902613, 0.30102606, 0.17852937, 0.29223761],\n",
       "        [0.9050767 , 0.52327413, 0.77688575, 0.82430772, 0.03290923],\n",
       "        [0.68433149, 0.53126271, 0.40118318, 0.12979977, 0.79356757]],\n",
       "\n",
       "       [[0.74760867, 0.57134778, 0.91224543, 0.71890306, 0.63823787],\n",
       "        [0.14462357, 0.84584131, 0.44899149, 0.6808421 , 0.11948021],\n",
       "        [0.50097376, 0.87840702, 0.17547447, 0.62221978, 0.82434951]]])"
      ]
     },
     "execution_count": 31,
     "metadata": {},
     "output_type": "execute_result"
    }
   ],
   "source": [
    "# your code here\n",
    "e = np.multiply(a,c)\n",
    "e"
   ]
  },
  {
   "cell_type": "markdown",
   "metadata": {},
   "source": [
    "#### 13. Does *e* equal to *a*? Why or why not?\n"
   ]
  },
  {
   "cell_type": "code",
   "execution_count": 30,
   "metadata": {},
   "outputs": [
    {
     "name": "stdout",
     "output_type": "stream",
     "text": [
      "[[[ True  True  True  True  True]\n",
      "  [ True  True  True  True  True]\n",
      "  [ True  True  True  True  True]]\n",
      "\n",
      " [[ True  True  True  True  True]\n",
      "  [ True  True  True  True  True]\n",
      "  [ True  True  True  True  True]]]\n"
     ]
    },
    {
     "data": {
      "text/plain": [
       "array([[[0.07072139, 0.72902613, 0.30102606, 0.17852937, 0.29223761],\n",
       "        [0.9050767 , 0.52327413, 0.77688575, 0.82430772, 0.03290923],\n",
       "        [0.68433149, 0.53126271, 0.40118318, 0.12979977, 0.79356757]],\n",
       "\n",
       "       [[0.74760867, 0.57134778, 0.91224543, 0.71890306, 0.63823787],\n",
       "        [0.14462357, 0.84584131, 0.44899149, 0.6808421 , 0.11948021],\n",
       "        [0.50097376, 0.87840702, 0.17547447, 0.62221978, 0.82434951]]])"
      ]
     },
     "execution_count": 30,
     "metadata": {},
     "output_type": "execute_result"
    }
   ],
   "source": [
    "# your code/answer here\n",
    "print( e==a)\n",
    "# yes it does because every value is multiplied by one (all values in c are =1) and therefor do not change their value"
   ]
  },
  {
   "cell_type": "markdown",
   "metadata": {},
   "source": [
    "#### 14. Identify the max, min, and mean values in *d*. Assign those values to variables *d_max*, *d_min* and *d_mean*."
   ]
  },
  {
   "cell_type": "code",
   "execution_count": 35,
   "metadata": {},
   "outputs": [
    {
     "data": {
      "text/plain": [
       "1.533456160549029"
      ]
     },
     "execution_count": 35,
     "metadata": {},
     "output_type": "execute_result"
    }
   ],
   "source": [
    "# your code here\n",
    "d_max = np.max(d)\n",
    "d_mean =np.mean(d)\n",
    "d_min = np.min(d)\n",
    "d_mean"
   ]
  },
  {
   "cell_type": "markdown",
   "metadata": {},
   "source": [
    "#### 15. Now we want to label the values in *d*. First create an empty array *f* with the same shape (i.e. 2x3x5) as *d* using `np.empty`.\n"
   ]
  },
  {
   "cell_type": "code",
   "execution_count": 48,
   "metadata": {},
   "outputs": [],
   "source": [
    "# your code here\n",
    "f = np.empty((2,3,5))\n"
   ]
  },
  {
   "cell_type": "markdown",
   "metadata": {},
   "source": [
    "#### 16. Populate the values in *f*. \n",
    "\n",
    "For each value in *d*, if it's larger than *d_min* but smaller than *d_mean*, assign 25 to the corresponding value in *f*. If a value in *d* is larger than *d_mean* but smaller than *d_max*, assign 75 to the corresponding value in *f*. If a value equals to *d_mean*, assign 50 to the corresponding value in *f*. Assign 0 to the corresponding value(s) in *f* for *d_min* in *d*. Assign 100 to the corresponding value(s) in *f* for *d_max* in *d*. In the end, f should have only the following values: 0, 25, 50, 75, and 100.\n",
    "\n",
    "**Note**: you don't have to use Numpy in this question."
   ]
  },
  {
   "cell_type": "code",
   "execution_count": 55,
   "metadata": {},
   "outputs": [
    {
     "name": "stdout",
     "output_type": "stream",
     "text": [
      "[[[ 25  75  25  25  25]\n",
      "  [ 75  25  75  75   0]\n",
      "  [ 75  25  25  25  75]]\n",
      "\n",
      " [[ 75  75 100  75  75]\n",
      "  [ 25  75  25  75  25]\n",
      "  [ 25  75  25  75  75]]]\n"
     ]
    }
   ],
   "source": [
    "f = []\n",
    "for x in d:\n",
    "    for y in x:\n",
    "        for z in y:\n",
    "            if z >d_min and z < d_mean:\n",
    "                f += [25]\n",
    "            elif z > d_mean and z < d_max:\n",
    "                f += [75]\n",
    "            elif z == d_mean:\n",
    "                f += [50]\n",
    "            elif z == d_max:\n",
    "                f += [100]\n",
    "            else:\n",
    "                f += [0]\n",
    "f = np.reshape(f, d.shape)\n",
    "print(f)            "
   ]
  },
  {
   "cell_type": "markdown",
   "metadata": {},
   "source": [
    "#### 17. Print *d* and *f*. Do you have your expected *f*?\n",
    "For instance, if your *d* is:\n",
    "```python\n",
    "[[[1.85836099, 1.67064465, 1.62576044, 1.40243961, 1.88454931],\n",
    "[1.75354326, 1.69403643, 1.36729252, 1.61415071, 1.12104981],\n",
    "[1.72201435, 1.1862918 , 1.87078449, 1.7726778 , 1.88180042]],\n",
    "[[1.44747908, 1.31673383, 1.02000951, 1.52218947, 1.97066381],\n",
    "[1.79129243, 1.74983003, 1.96028037, 1.85166831, 1.65450881],\n",
    "[1.18068344, 1.9587381 , 1.00656599, 1.93402165, 1.73514584]]]\n",
    "```\n",
    "Your *f* should be:\n",
    "```python\n",
    "[[[ 75.,  75.,  75.,  25.,  75.],\n",
    "[ 75.,  75.,  25.,  25.,  25.],\n",
    "[ 75.,  25.,  75.,  75.,  75.]],\n",
    "[[ 25.,  25.,  25.,  25., 100.],\n",
    "[ 75.,  75.,  75.,  75.,  75.],\n",
    "[ 25.,  75.,   0.,  75.,  75.]]]\n",
    "```"
   ]
  },
  {
   "cell_type": "code",
   "execution_count": null,
   "metadata": {},
   "outputs": [],
   "source": [
    "# your code here"
   ]
  },
  {
   "cell_type": "markdown",
   "metadata": {},
   "source": [
    "#### 18. Bonus question: instead of using numbers (i.e. 0, 25, 50, 75, and 100), use string values  (\"A\", \"B\", \"C\", \"D\", and \"E\") to label the array elements. For the example above, the expected result is:\n",
    "\n",
    "```python\n",
    "[[[ 'D',  'D',  'D',  'B',  'D'],\n",
    "[ 'D',  'D',  'B',  'B',  'B'],\n",
    "[ 'D',  'B',  'D',  'D',  'D']],\n",
    "[[ 'B',  'B',  'B',  'B',  'E'],\n",
    "[ 'D',  'D',  'D',  'D',  'D'],\n",
    "[ 'B',  'D',   'A',  'D', 'D']]]\n",
    "```\n",
    "**Note**: you don't have to use Numpy in this question."
   ]
  },
  {
   "cell_type": "code",
   "execution_count": 56,
   "metadata": {},
   "outputs": [
    {
     "name": "stdout",
     "output_type": "stream",
     "text": [
      "[[['B' 'D' 'B' 'B' 'B']\n",
      "  ['D' 'B' 'D' 'D' 'A']\n",
      "  ['D' 'B' 'B' 'B' 'D']]\n",
      "\n",
      " [['D' 'D' 'E' 'D' 'D']\n",
      "  ['B' 'D' 'B' 'D' 'B']\n",
      "  ['B' 'D' 'B' 'D' 'D']]]\n"
     ]
    }
   ],
   "source": [
    "# your code here\n",
    "f = []\n",
    "for x in d:\n",
    "    for y in x:\n",
    "        for z in y:\n",
    "            if z >d_min and z < d_mean:\n",
    "                f += ['B']\n",
    "            elif z > d_mean and z < d_max:\n",
    "                f += ['D']\n",
    "            elif z == d_mean:\n",
    "                f += ['C']\n",
    "            elif z == d_max:\n",
    "                f += ['E']\n",
    "            else:\n",
    "                f += ['A']\n",
    "f = np.reshape(f, d.shape)\n",
    "print(f)            "
   ]
  }
 ],
 "metadata": {
  "kernelspec": {
   "display_name": "Python 3 (ipykernel)",
   "language": "python",
   "name": "python3"
  },
  "language_info": {
   "codemirror_mode": {
    "name": "ipython",
    "version": 3
   },
   "file_extension": ".py",
   "mimetype": "text/x-python",
   "name": "python",
   "nbconvert_exporter": "python",
   "pygments_lexer": "ipython3",
   "version": "3.9.7"
  }
 },
 "nbformat": 4,
 "nbformat_minor": 2
}
