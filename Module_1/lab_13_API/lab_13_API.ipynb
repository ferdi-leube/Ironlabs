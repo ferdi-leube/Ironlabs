{
 "cells": [
  {
   "cell_type": "markdown",
   "id": "6b6b1d3f",
   "metadata": {},
   "source": [
    "## challenge 3\n"
   ]
  },
  {
   "cell_type": "code",
   "execution_count": 44,
   "id": "c1f895fa",
   "metadata": {},
   "outputs": [],
   "source": [
    "#challenge 1\n",
    "receive= requests.get(\"https://imgs.xkcd.com/comics/imho.png\")\n",
    "with open (r'/Users/leube/downloads/image.png','wb') as f:\n",
    "    f.write(receive.content)"
   ]
  },
  {
   "cell_type": "code",
   "execution_count": 32,
   "id": "8ebdcdcb",
   "metadata": {
    "scrolled": true
   },
   "outputs": [
    {
     "name": "stdout",
     "output_type": "stream",
     "text": [
      "{\n",
      "  \"args\": {}, \n",
      "  \"data\": \"\", \n",
      "  \"files\": {}, \n",
      "  \"form\": {\n",
      "    \"password\": \"1234567890\", \n",
      "    \"things\": \"2\", \n",
      "    \"total\": \"25\", \n",
      "    \"username\": \"ferdinandhansi\"\n",
      "  }, \n",
      "  \"headers\": {\n",
      "    \"Accept\": \"*/*\", \n",
      "    \"Accept-Encoding\": \"gzip, deflate, br\", \n",
      "    \"Content-Length\": \"61\", \n",
      "    \"Content-Type\": \"application/x-www-form-urlencoded\", \n",
      "    \"Host\": \"httpbin.org\", \n",
      "    \"User-Agent\": \"python-requests/2.26.0\", \n",
      "    \"X-Amzn-Trace-Id\": \"Root=1-6283bad7-24a755991ef11aa462c030fb\"\n",
      "  }, \n",
      "  \"json\": null, \n",
      "  \"origin\": \"195.134.167.217\", \n",
      "  \"url\": \"https://httpbin.org/post\"\n",
      "}\n",
      "\n"
     ]
    }
   ],
   "source": [
    "# challenge 2 \n",
    "linkdata =  requests.get('https://httpbin.org/get')\n",
    "#print(linkdata.text)\n",
    "data = {'things':2,'total':25,'username':'ferdinandhansi','password':1234567890}\n",
    "r = requests.post('https://httpbin.org/post', data = data)\n",
    "print(r.text)\n"
   ]
  },
  {
   "cell_type": "code",
   "execution_count": 42,
   "id": "154e12df",
   "metadata": {},
   "outputs": [],
   "source": [
    "# challenge 3\n",
    "\n",
    "# response = requests.get('https://api.github.com/search/code?q=.scavengerhunt in:path+repo:ironhack-datalabs/scavenger')\n",
    "# search = response.json()\n",
    "\n",
    "# import pandas as pd\n",
    "# data = pd.DataFrame(search)\n",
    "# #data.sort_values(items)\n",
    "# data"
   ]
  },
  {
   "cell_type": "code",
   "execution_count": 41,
   "id": "091e70dc",
   "metadata": {},
   "outputs": [],
   "source": [
    "# def flatten_own(data, col_list):\n",
    "#     for column in col_list:\n",
    "#         flattened = pd.DataFrame(dict(data[column])).transpose()#now the subcolumns are being framed in the same why the columns have been before, then transposed, to have the keys of dictionary as columns\n",
    "#         columns = [str(col) for col in flattened.columns] #use .column function for dataframe flattend and iterates through the column names, adding them to columns list\n",
    "#         flattened.columns = [column + '_' + colname for colname in columns] #rename flattened.columns with the domain name \"actor\"\n",
    "#         data = pd.concat([data, flattened], axis=1) #concatenates data and flattened on axis 1 --> columns combined \n",
    "#         data = data.drop(column, axis=1) # drop colum (axis 1 = column)  \n",
    "#     return data\n",
    "# nested_column = ['items']\n",
    "# flat = flatten_own(data, nested_column)\n",
    "# flat"
   ]
  },
  {
   "cell_type": "code",
   "execution_count": 43,
   "id": "a32cd8e1",
   "metadata": {},
   "outputs": [],
   "source": [
    "# type(flat)\n",
    "# sorted_names = flat.sort_values(by=\"items_name\", ascending = True)\n",
    "\n",
    "# import re\n",
    "# joke_list = []\n",
    "# for i in range(24):\n",
    "#     link = flat.items_url[i]\n",
    "#     print(link)\n",
    "#     link = str(link)\n",
    "#     print(link)\n",
    "#     recieve = requests.get(link)\n",
    "#     print(recieve)\n",
    "#     with open (r'/Users/leube/downloads/files{i}.json','wb') as f:\n",
    "#         f.write(recieve.content)\n",
    "#     with open (r'/Users/leube/downloads/files{i}.json','r') as p:\n",
    "#         contents = json.load(p)\n",
    "#         joke_list.append(re.findall(r\"[a-zA-Z]+\",contents))\n",
    "# print(joke_list)"
   ]
  },
  {
   "cell_type": "code",
   "execution_count": 49,
   "id": "d1053c05",
   "metadata": {},
   "outputs": [
    {
     "data": {
      "text/plain": [
       "{'total_count': 0, 'incomplete_results': False, 'items': []}"
      ]
     },
     "execution_count": 49,
     "metadata": {},
     "output_type": "execute_result"
    }
   ],
   "source": [
    "import json\n",
    "import requests\n",
    "import pandas as pd\n",
    "\n",
    "response = requests.get('https://api.github.com/search/code?q=.scavengerhunt in:path+repo:ironhack-datalabs/scavenger')\n",
    "search = response.json()\n",
    "search"
   ]
  },
  {
   "cell_type": "code",
   "execution_count": 48,
   "id": "cb1d6ba6",
   "metadata": {},
   "outputs": [
    {
     "name": "stdout",
     "output_type": "stream",
     "text": [
      "24\n",
      "[b'In\\n', b'data\\n', b'science,\\n', b'80\\n', b'percent\\n', b'of\\n', b'time\\n', b'spent\\n', b'is\\n', b'preparing\\n', b'data,\\n', b'20\\n', b'percent\\n', b'of\\n', b'time\\n', b'is\\n', b'spent\\n', b'complaining\\n', b'about\\n', b'the\\n', b'need\\n', b'to\\n', b'prepare\\n', b'data.\\n']\n"
     ]
    }
   ],
   "source": [
    "files = search['items']\n",
    "files\n",
    "print(len(files))\n",
    "#sort files first\n",
    "files = sorted(files, key=lambda file: file['name'])\n",
    "# now we need the url to the files, open them and add text to a list\n",
    "url_list = []\n",
    "str_list_nc = []\n",
    "for i in range(len(files)):\n",
    "    dic = files[i]\n",
    "    url_list.append(dic['git_url'])\n",
    "\n",
    "\n",
    "for links in url_list:\n",
    "    response2 = requests.get(links)\n",
    "    search2 = response2.json()\n",
    "    encoded = search2['content']\n",
    "    import base64 \n",
    "    content_64_decode = base64.b64decode(encoded)\n",
    "    str_list_nc.append(content_64_decode)\n",
    "print(str_list_nc)\n",
    "\n",
    "clean_list = []\n",
    "#theoretical follow up\n",
    "#list now contains all the decoded contents\n",
    "\n",
    "# for cons in str_list_nc:\n",
    "#     cons.replace(\"\\n\",\" \").replace(\"b\",\"\")\n",
    "#     clean_list.append(a)\n",
    "\n",
    "# last step --> joining the cold joke\n",
    "#print(\" \".join(clean_list))"
   ]
  },
  {
   "cell_type": "code",
   "execution_count": 50,
   "id": "0f003848",
   "metadata": {},
   "outputs": [
    {
     "data": {
      "text/plain": [
       "bytes"
      ]
     },
     "execution_count": 50,
     "metadata": {},
     "output_type": "execute_result"
    }
   ],
   "source": [
    "by = b'In\\n'\n",
    "type(by)\n",
    "\n",
    "#how to turn bytes into string"
   ]
  }
 ],
 "metadata": {
  "kernelspec": {
   "display_name": "Python 3 (ipykernel)",
   "language": "python",
   "name": "python3"
  },
  "language_info": {
   "codemirror_mode": {
    "name": "ipython",
    "version": 3
   },
   "file_extension": ".py",
   "mimetype": "text/x-python",
   "name": "python",
   "nbconvert_exporter": "python",
   "pygments_lexer": "ipython3",
   "version": "3.9.7"
  }
 },
 "nbformat": 4,
 "nbformat_minor": 5
}
