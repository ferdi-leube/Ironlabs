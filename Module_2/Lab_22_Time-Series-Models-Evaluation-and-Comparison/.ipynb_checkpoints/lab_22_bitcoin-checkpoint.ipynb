{
 "cells": [
  {
   "cell_type": "code",
   "execution_count": 81,
   "id": "d61d9abf",
   "metadata": {},
   "outputs": [],
   "source": [
    "import yfinance as yf\n",
    "import matplotlib.pyplot as plt\n",
    "import seaborn as sns\n",
    "import pandas as pd\n",
    "import numpy as np\n",
    "import pandas as pd\n",
    "import matplotlib.pyplot as plt\n",
    "import statsmodels.api as sm\n",
    "from pandas.plotting import lag_plot\n",
    "from statsmodels.tsa.stattools import adfuller\n",
    "from statsmodels.tsa.seasonal import seasonal_decompose\n",
    "from dateutil.parser import parse\n",
    "from statsmodels.tsa.stattools import acf, pacf\n",
    "from statsmodels.graphics.tsaplots import plot_acf, plot_pacf\n",
    "from statsmodels.tsa.arima_model import ARMA\n"
   ]
  },
  {
   "cell_type": "code",
   "execution_count": 3,
   "id": "97c9b975",
   "metadata": {},
   "outputs": [
    {
     "name": "stdout",
     "output_type": "stream",
     "text": [
      "[*********************100%***********************]  1 of 1 completed\n"
     ]
    }
   ],
   "source": [
    "bitcoin = yf.download('BTC-USD', start='2022-01-20', end='2022-06-20')"
   ]
  },
  {
   "cell_type": "code",
   "execution_count": 4,
   "id": "46a7cfa5",
   "metadata": {},
   "outputs": [
    {
     "data": {
      "text/html": [
       "<div>\n",
       "<style scoped>\n",
       "    .dataframe tbody tr th:only-of-type {\n",
       "        vertical-align: middle;\n",
       "    }\n",
       "\n",
       "    .dataframe tbody tr th {\n",
       "        vertical-align: top;\n",
       "    }\n",
       "\n",
       "    .dataframe thead th {\n",
       "        text-align: right;\n",
       "    }\n",
       "</style>\n",
       "<table border=\"1\" class=\"dataframe\">\n",
       "  <thead>\n",
       "    <tr style=\"text-align: right;\">\n",
       "      <th></th>\n",
       "      <th>Open</th>\n",
       "      <th>High</th>\n",
       "      <th>Low</th>\n",
       "      <th>Close</th>\n",
       "      <th>Adj Close</th>\n",
       "      <th>Volume</th>\n",
       "    </tr>\n",
       "    <tr>\n",
       "      <th>Date</th>\n",
       "      <th></th>\n",
       "      <th></th>\n",
       "      <th></th>\n",
       "      <th></th>\n",
       "      <th></th>\n",
       "      <th></th>\n",
       "    </tr>\n",
       "  </thead>\n",
       "  <tbody>\n",
       "    <tr>\n",
       "      <th>2022-01-19</th>\n",
       "      <td>42374.039062</td>\n",
       "      <td>42478.304688</td>\n",
       "      <td>41242.914062</td>\n",
       "      <td>41744.328125</td>\n",
       "      <td>41744.328125</td>\n",
       "      <td>23091543258</td>\n",
       "    </tr>\n",
       "    <tr>\n",
       "      <th>2022-01-20</th>\n",
       "      <td>41744.027344</td>\n",
       "      <td>43413.023438</td>\n",
       "      <td>40672.824219</td>\n",
       "      <td>40680.417969</td>\n",
       "      <td>40680.417969</td>\n",
       "      <td>20382033940</td>\n",
       "    </tr>\n",
       "    <tr>\n",
       "      <th>2022-01-21</th>\n",
       "      <td>40699.605469</td>\n",
       "      <td>41060.527344</td>\n",
       "      <td>35791.425781</td>\n",
       "      <td>36457.316406</td>\n",
       "      <td>36457.316406</td>\n",
       "      <td>43011992031</td>\n",
       "    </tr>\n",
       "    <tr>\n",
       "      <th>2022-01-22</th>\n",
       "      <td>36471.589844</td>\n",
       "      <td>36688.812500</td>\n",
       "      <td>34349.250000</td>\n",
       "      <td>35030.250000</td>\n",
       "      <td>35030.250000</td>\n",
       "      <td>39714385405</td>\n",
       "    </tr>\n",
       "    <tr>\n",
       "      <th>2022-01-23</th>\n",
       "      <td>35047.359375</td>\n",
       "      <td>36433.312500</td>\n",
       "      <td>34784.968750</td>\n",
       "      <td>36276.804688</td>\n",
       "      <td>36276.804688</td>\n",
       "      <td>26017975951</td>\n",
       "    </tr>\n",
       "    <tr>\n",
       "      <th>...</th>\n",
       "      <td>...</td>\n",
       "      <td>...</td>\n",
       "      <td>...</td>\n",
       "      <td>...</td>\n",
       "      <td>...</td>\n",
       "      <td>...</td>\n",
       "    </tr>\n",
       "    <tr>\n",
       "      <th>2022-06-15</th>\n",
       "      <td>22196.730469</td>\n",
       "      <td>22642.671875</td>\n",
       "      <td>20178.376953</td>\n",
       "      <td>22572.839844</td>\n",
       "      <td>22572.839844</td>\n",
       "      <td>54912007015</td>\n",
       "    </tr>\n",
       "    <tr>\n",
       "      <th>2022-06-16</th>\n",
       "      <td>22576.304688</td>\n",
       "      <td>22868.921875</td>\n",
       "      <td>20265.226562</td>\n",
       "      <td>20381.650391</td>\n",
       "      <td>20381.650391</td>\n",
       "      <td>31183975654</td>\n",
       "    </tr>\n",
       "    <tr>\n",
       "      <th>2022-06-17</th>\n",
       "      <td>20385.718750</td>\n",
       "      <td>21243.312500</td>\n",
       "      <td>20326.519531</td>\n",
       "      <td>20471.482422</td>\n",
       "      <td>20471.482422</td>\n",
       "      <td>27132421514</td>\n",
       "    </tr>\n",
       "    <tr>\n",
       "      <th>2022-06-18</th>\n",
       "      <td>20473.425781</td>\n",
       "      <td>20736.041016</td>\n",
       "      <td>17708.623047</td>\n",
       "      <td>19017.642578</td>\n",
       "      <td>19017.642578</td>\n",
       "      <td>42009436760</td>\n",
       "    </tr>\n",
       "    <tr>\n",
       "      <th>2022-06-19</th>\n",
       "      <td>19010.902344</td>\n",
       "      <td>20683.822266</td>\n",
       "      <td>18067.152344</td>\n",
       "      <td>20553.271484</td>\n",
       "      <td>20553.271484</td>\n",
       "      <td>35329942625</td>\n",
       "    </tr>\n",
       "  </tbody>\n",
       "</table>\n",
       "<p>152 rows × 6 columns</p>\n",
       "</div>"
      ],
      "text/plain": [
       "                    Open          High           Low         Close  \\\n",
       "Date                                                                 \n",
       "2022-01-19  42374.039062  42478.304688  41242.914062  41744.328125   \n",
       "2022-01-20  41744.027344  43413.023438  40672.824219  40680.417969   \n",
       "2022-01-21  40699.605469  41060.527344  35791.425781  36457.316406   \n",
       "2022-01-22  36471.589844  36688.812500  34349.250000  35030.250000   \n",
       "2022-01-23  35047.359375  36433.312500  34784.968750  36276.804688   \n",
       "...                  ...           ...           ...           ...   \n",
       "2022-06-15  22196.730469  22642.671875  20178.376953  22572.839844   \n",
       "2022-06-16  22576.304688  22868.921875  20265.226562  20381.650391   \n",
       "2022-06-17  20385.718750  21243.312500  20326.519531  20471.482422   \n",
       "2022-06-18  20473.425781  20736.041016  17708.623047  19017.642578   \n",
       "2022-06-19  19010.902344  20683.822266  18067.152344  20553.271484   \n",
       "\n",
       "               Adj Close       Volume  \n",
       "Date                                   \n",
       "2022-01-19  41744.328125  23091543258  \n",
       "2022-01-20  40680.417969  20382033940  \n",
       "2022-01-21  36457.316406  43011992031  \n",
       "2022-01-22  35030.250000  39714385405  \n",
       "2022-01-23  36276.804688  26017975951  \n",
       "...                  ...          ...  \n",
       "2022-06-15  22572.839844  54912007015  \n",
       "2022-06-16  20381.650391  31183975654  \n",
       "2022-06-17  20471.482422  27132421514  \n",
       "2022-06-18  19017.642578  42009436760  \n",
       "2022-06-19  20553.271484  35329942625  \n",
       "\n",
       "[152 rows x 6 columns]"
      ]
     },
     "execution_count": 4,
     "metadata": {},
     "output_type": "execute_result"
    }
   ],
   "source": [
    "bitcoin"
   ]
  },
  {
   "cell_type": "code",
   "execution_count": 5,
   "id": "1b9fbad7",
   "metadata": {},
   "outputs": [
    {
     "data": {
      "image/png": "[encoded data removed]",
      "text/plain": [
       "<Figure size 432x288 with 1 Axes>"
      ]
     },
     "metadata": {
      "needs_background": "light"
     },
     "output_type": "display_data"
    }
   ],
   "source": [
    "sns.lineplot(data=bitcoin['Close'])\n",
    "plt.ylabel(\"Bitcoin Price\")\n",
    "plt.xticks(rotation=90)\n",
    "plt.show()"
   ]
  },
  {
   "cell_type": "code",
   "execution_count": 6,
   "id": "b7339e61",
   "metadata": {},
   "outputs": [
    {
     "name": "stdout",
     "output_type": "stream",
     "text": [
      "       Values                       Metric\n",
      "0   -0.143330              Test Statistics\n",
      "1    0.944948                      p-value\n",
      "2    0.000000             No. of lags used\n",
      "3  151.000000  Number of observations used\n",
      "4   -3.474416          critical value (1%)\n",
      "5   -2.880878          critical value (5%)\n",
      "6   -2.577081         critical value (10%)\n"
     ]
    }
   ],
   "source": [
    "from statsmodels.tsa.stattools import adfuller\n",
    "adft = adfuller(bitcoin['Close'],autolag=\"AIC\")\n",
    "output_df = pd.DataFrame({\"Values\":[adft[0],adft[1],adft[2],adft[3], adft[4]['1%'], adft[4]['5%'], adft[4]['10%']]  , \"Metric\":[\"Test Statistics\",\"p-value\",\"No. of lags used\",\"Number of observations used\",\n",
    "                                                        \"critical value (1%)\", \"critical value (5%)\", \"critical value (10%)\"]})\n",
    "print(output_df)"
   ]
  },
  {
   "cell_type": "markdown",
   "id": "7985043d",
   "metadata": {},
   "source": [
    "high p value --> p value accepted saying data is not stationary"
   ]
  },
  {
   "cell_type": "code",
   "execution_count": 7,
   "id": "ecbfd507",
   "metadata": {},
   "outputs": [
    {
     "data": {
      "image/png": "[encoded data removed]",
      "text/plain": [
       "<Figure size 432x288 with 1 Axes>"
      ]
     },
     "execution_count": 7,
     "metadata": {},
     "output_type": "execute_result"
    },
    {
     "data": {
      "image/png": "[encoded data removed]",
      "text/plain": [
       "<Figure size 432x288 with 1 Axes>"
      ]
     },
     "metadata": {
      "needs_background": "light"
     },
     "output_type": "display_data"
    }
   ],
   "source": [
    "# autocorrelation\n",
    "from statsmodels.tsa.stattools import acf, pacf\n",
    "from statsmodels.graphics.tsaplots import plot_acf, plot_pacf\n",
    "plot_acf(bitcoin['Close'], lags=90)"
   ]
  },
  {
   "cell_type": "markdown",
   "id": "f13c2952",
   "metadata": {},
   "source": [
    "decreasing correlation between value and n degree value from day to day, values have auto correlation with values of around 10 days prior"
   ]
  },
  {
   "cell_type": "code",
   "execution_count": 8,
   "id": "3e07dbe2",
   "metadata": {},
   "outputs": [
    {
     "data": {
      "image/png": "[encoded data removed]",
      "text/plain": [
       "<Figure size 432x288 with 4 Axes>"
      ]
     },
     "metadata": {
      "needs_background": "light"
     },
     "output_type": "display_data"
    }
   ],
   "source": [
    "from statsmodels.tsa.seasonal import seasonal_decompose\n",
    "decompose = seasonal_decompose(bitcoin['Close'],model='additive', period=7)\n",
    "decompose.plot()\n",
    "plt.show()"
   ]
  },
  {
   "cell_type": "markdown",
   "id": "e41fd18e",
   "metadata": {},
   "source": [
    "no real seasonality, trend line very similar to original graph, indicates that no big change through seasonal factors"
   ]
  },
  {
   "cell_type": "code",
   "execution_count": 9,
   "id": "9cb92005",
   "metadata": {},
   "outputs": [
    {
     "data": {
      "text/plain": [
       "Date\n",
       "2022-01-19         NaN\n",
       "2022-01-20   -0.025817\n",
       "2022-01-21   -0.109605\n",
       "2022-01-22   -0.039930\n",
       "2022-01-23    0.034967\n",
       "                ...   \n",
       "2022-06-15    0.016349\n",
       "2022-06-16   -0.102112\n",
       "2022-06-17    0.004398\n",
       "2022-06-18   -0.073666\n",
       "2022-06-19    0.077653\n",
       "Name: Close, Length: 152, dtype: float64"
      ]
     },
     "execution_count": 9,
     "metadata": {},
     "output_type": "execute_result"
    }
   ],
   "source": [
    "bitlog = np.log(bitcoin['Close'])\n",
    "bitdiff = bitlog.diff()\n",
    "bitdiff"
   ]
  },
  {
   "cell_type": "code",
   "execution_count": 10,
   "id": "96e53a4a",
   "metadata": {},
   "outputs": [
    {
     "data": {
      "image/png": "[encoded data removed]",
      "text/plain": [
       "<Figure size 720x540 with 1 Axes>"
      ]
     },
     "metadata": {
      "needs_background": "light"
     },
     "output_type": "display_data"
    }
   ],
   "source": [
    "plt.figure(figsize=[10, 7.5]); # Set dimensions for figure\n",
    "plt.plot(bitdiff)\n",
    "plt.title('Stationary?')\n",
    "plt.show()"
   ]
  },
  {
   "cell_type": "code",
   "execution_count": 11,
   "id": "e759b5d0",
   "metadata": {},
   "outputs": [
    {
     "name": "stderr",
     "output_type": "stream",
     "text": [
      "C:\\Users\\leube\\anaconda3\\lib\\site-packages\\statsmodels\\tsa\\arima_model.py:472: FutureWarning: \n",
      "statsmodels.tsa.arima_model.ARMA and statsmodels.tsa.arima_model.ARIMA have\n",
      "been deprecated in favor of statsmodels.tsa.arima.model.ARIMA (note the .\n",
      "between arima and model) and\n",
      "statsmodels.tsa.SARIMAX. These will be removed after the 0.12 release.\n",
      "\n",
      "statsmodels.tsa.arima.model.ARIMA makes use of the statespace framework and\n",
      "is both well tested and maintained.\n",
      "\n",
      "To silence this warning and continue using ARMA and ARIMA until they are\n",
      "removed, use:\n",
      "\n",
      "import warnings\n",
      "warnings.filterwarnings('ignore', 'statsmodels.tsa.arima_model.ARMA',\n",
      "                        FutureWarning)\n",
      "warnings.filterwarnings('ignore', 'statsmodels.tsa.arima_model.ARIMA',\n",
      "                        FutureWarning)\n",
      "\n",
      "  warnings.warn(ARIMA_DEPRECATION_WARN, FutureWarning)\n",
      "C:\\Users\\leube\\anaconda3\\lib\\site-packages\\statsmodels\\tsa\\base\\tsa_model.py:524: ValueWarning: No frequency information was provided, so inferred frequency D will be used.\n",
      "  warnings.warn('No frequency information was'\n"
     ]
    },
    {
     "data": {
      "text/html": [
       "<table class=\"simpletable\">\n",
       "<caption>ARMA Model Results</caption>\n",
       "<tr>\n",
       "  <th>Dep. Variable:</th>       <td>Close</td>      <th>  No. Observations:  </th>    <td>151</td>  \n",
       "</tr>\n",
       "<tr>\n",
       "  <th>Model:</th>            <td>ARMA(1, 0)</td>    <th>  Log Likelihood     </th>  <td>273.105</td>\n",
       "</tr>\n",
       "<tr>\n",
       "  <th>Method:</th>             <td>css-mle</td>     <th>  S.D. of innovations</th>   <td>0.040</td> \n",
       "</tr>\n",
       "<tr>\n",
       "  <th>Date:</th>          <td>Tue, 21 Jun 2022</td> <th>  AIC                </th> <td>-540.209</td>\n",
       "</tr>\n",
       "<tr>\n",
       "  <th>Time:</th>              <td>21:12:31</td>     <th>  BIC                </th> <td>-531.157</td>\n",
       "</tr>\n",
       "<tr>\n",
       "  <th>Sample:</th>           <td>01-20-2022</td>    <th>  HQIC               </th> <td>-536.532</td>\n",
       "</tr>\n",
       "<tr>\n",
       "  <th></th>                 <td>- 06-19-2022</td>   <th>                     </th>     <td> </td>   \n",
       "</tr>\n",
       "</table>\n",
       "<table class=\"simpletable\">\n",
       "<tr>\n",
       "       <td></td>          <th>coef</th>     <th>std err</th>      <th>z</th>      <th>P>|z|</th>  <th>[0.025</th>    <th>0.975]</th>  \n",
       "</tr>\n",
       "<tr>\n",
       "  <th>const</th>       <td>   -0.0047</td> <td>    0.003</td> <td>   -1.505</td> <td> 0.132</td> <td>   -0.011</td> <td>    0.001</td>\n",
       "</tr>\n",
       "<tr>\n",
       "  <th>ar.L1.Close</th> <td>   -0.0325</td> <td>    0.082</td> <td>   -0.395</td> <td> 0.693</td> <td>   -0.194</td> <td>    0.129</td>\n",
       "</tr>\n",
       "</table>\n",
       "<table class=\"simpletable\">\n",
       "<caption>Roots</caption>\n",
       "<tr>\n",
       "    <td></td>   <th>            Real</th>  <th>         Imaginary</th> <th>         Modulus</th>  <th>        Frequency</th>\n",
       "</tr>\n",
       "<tr>\n",
       "  <th>AR.1</th> <td>         -30.7767</td> <td>          +0.0000j</td> <td>          30.7767</td> <td>           0.5000</td>\n",
       "</tr>\n",
       "</table>"
      ],
      "text/plain": [
       "<class 'statsmodels.iolib.summary.Summary'>\n",
       "\"\"\"\n",
       "                              ARMA Model Results                              \n",
       "==============================================================================\n",
       "Dep. Variable:                  Close   No. Observations:                  151\n",
       "Model:                     ARMA(1, 0)   Log Likelihood                 273.105\n",
       "Method:                       css-mle   S.D. of innovations              0.040\n",
       "Date:                Tue, 21 Jun 2022   AIC                           -540.209\n",
       "Time:                        21:12:31   BIC                           -531.157\n",
       "Sample:                    01-20-2022   HQIC                          -536.532\n",
       "                         - 06-19-2022                                         \n",
       "===============================================================================\n",
       "                  coef    std err          z      P>|z|      [0.025      0.975]\n",
       "-------------------------------------------------------------------------------\n",
       "const          -0.0047      0.003     -1.505      0.132      -0.011       0.001\n",
       "ar.L1.Close    -0.0325      0.082     -0.395      0.693      -0.194       0.129\n",
       "                                    Roots                                    \n",
       "=============================================================================\n",
       "                  Real          Imaginary           Modulus         Frequency\n",
       "-----------------------------------------------------------------------------\n",
       "AR.1          -30.7767           +0.0000j           30.7767            0.5000\n",
       "-----------------------------------------------------------------------------\n",
       "\"\"\""
      ]
     },
     "execution_count": 11,
     "metadata": {},
     "output_type": "execute_result"
    }
   ],
   "source": [
    "# looking for AR\n",
    "from statsmodels.tsa.arima_model import ARMA\n",
    "\n",
    "model_AR1 = ARMA(bitdiff.dropna(), order=(1, 0))\n",
    "result_AR1 = model_AR1.fit()\n",
    "result_AR1.summary()"
   ]
  },
  {
   "cell_type": "code",
   "execution_count": 12,
   "id": "86a773ee",
   "metadata": {},
   "outputs": [
    {
     "name": "stderr",
     "output_type": "stream",
     "text": [
      "C:\\Users\\leube\\anaconda3\\lib\\site-packages\\statsmodels\\tsa\\arima_model.py:472: FutureWarning: \n",
      "statsmodels.tsa.arima_model.ARMA and statsmodels.tsa.arima_model.ARIMA have\n",
      "been deprecated in favor of statsmodels.tsa.arima.model.ARIMA (note the .\n",
      "between arima and model) and\n",
      "statsmodels.tsa.SARIMAX. These will be removed after the 0.12 release.\n",
      "\n",
      "statsmodels.tsa.arima.model.ARIMA makes use of the statespace framework and\n",
      "is both well tested and maintained.\n",
      "\n",
      "To silence this warning and continue using ARMA and ARIMA until they are\n",
      "removed, use:\n",
      "\n",
      "import warnings\n",
      "warnings.filterwarnings('ignore', 'statsmodels.tsa.arima_model.ARMA',\n",
      "                        FutureWarning)\n",
      "warnings.filterwarnings('ignore', 'statsmodels.tsa.arima_model.ARIMA',\n",
      "                        FutureWarning)\n",
      "\n",
      "  warnings.warn(ARIMA_DEPRECATION_WARN, FutureWarning)\n",
      "C:\\Users\\leube\\anaconda3\\lib\\site-packages\\statsmodels\\tsa\\base\\tsa_model.py:524: ValueWarning: No frequency information was provided, so inferred frequency D will be used.\n",
      "  warnings.warn('No frequency information was'\n"
     ]
    },
    {
     "data": {
      "text/html": [
       "<table class=\"simpletable\">\n",
       "<caption>ARMA Model Results</caption>\n",
       "<tr>\n",
       "  <th>Dep. Variable:</th>       <td>Close</td>      <th>  No. Observations:  </th>    <td>151</td>  \n",
       "</tr>\n",
       "<tr>\n",
       "  <th>Model:</th>            <td>ARMA(4, 0)</td>    <th>  Log Likelihood     </th>  <td>273.827</td>\n",
       "</tr>\n",
       "<tr>\n",
       "  <th>Method:</th>             <td>css-mle</td>     <th>  S.D. of innovations</th>   <td>0.039</td> \n",
       "</tr>\n",
       "<tr>\n",
       "  <th>Date:</th>          <td>Tue, 21 Jun 2022</td> <th>  AIC                </th> <td>-535.654</td>\n",
       "</tr>\n",
       "<tr>\n",
       "  <th>Time:</th>              <td>21:12:34</td>     <th>  BIC                </th> <td>-517.550</td>\n",
       "</tr>\n",
       "<tr>\n",
       "  <th>Sample:</th>           <td>01-20-2022</td>    <th>  HQIC               </th> <td>-528.299</td>\n",
       "</tr>\n",
       "<tr>\n",
       "  <th></th>                 <td>- 06-19-2022</td>   <th>                     </th>     <td> </td>   \n",
       "</tr>\n",
       "</table>\n",
       "<table class=\"simpletable\">\n",
       "<tr>\n",
       "       <td></td>          <th>coef</th>     <th>std err</th>      <th>z</th>      <th>P>|z|</th>  <th>[0.025</th>    <th>0.975]</th>  \n",
       "</tr>\n",
       "<tr>\n",
       "  <th>const</th>       <td>   -0.0048</td> <td>    0.004</td> <td>   -1.367</td> <td> 0.172</td> <td>   -0.012</td> <td>    0.002</td>\n",
       "</tr>\n",
       "<tr>\n",
       "  <th>ar.L1.Close</th> <td>   -0.0330</td> <td>    0.083</td> <td>   -0.399</td> <td> 0.690</td> <td>   -0.195</td> <td>    0.129</td>\n",
       "</tr>\n",
       "<tr>\n",
       "  <th>ar.L2.Close</th> <td>    0.0419</td> <td>    0.085</td> <td>    0.495</td> <td> 0.621</td> <td>   -0.124</td> <td>    0.208</td>\n",
       "</tr>\n",
       "<tr>\n",
       "  <th>ar.L3.Close</th> <td>    0.0932</td> <td>    0.085</td> <td>    1.101</td> <td> 0.271</td> <td>   -0.073</td> <td>    0.259</td>\n",
       "</tr>\n",
       "<tr>\n",
       "  <th>ar.L4.Close</th> <td>   -0.0131</td> <td>    0.087</td> <td>   -0.150</td> <td> 0.881</td> <td>   -0.184</td> <td>    0.158</td>\n",
       "</tr>\n",
       "</table>\n",
       "<table class=\"simpletable\">\n",
       "<caption>Roots</caption>\n",
       "<tr>\n",
       "    <td></td>   <th>            Real</th>  <th>         Imaginary</th> <th>         Modulus</th>  <th>        Frequency</th>\n",
       "</tr>\n",
       "<tr>\n",
       "  <th>AR.1</th> <td>          -1.2899</td> <td>          -1.6479j</td> <td>           2.0927</td> <td>          -0.3557</td>\n",
       "</tr>\n",
       "<tr>\n",
       "  <th>AR.2</th> <td>          -1.2899</td> <td>          +1.6479j</td> <td>           2.0927</td> <td>           0.3557</td>\n",
       "</tr>\n",
       "<tr>\n",
       "  <th>AR.3</th> <td>           2.3849</td> <td>          -0.0000j</td> <td>           2.3849</td> <td>          -0.0000</td>\n",
       "</tr>\n",
       "<tr>\n",
       "  <th>AR.4</th> <td>           7.3107</td> <td>          -0.0000j</td> <td>           7.3107</td> <td>          -0.0000</td>\n",
       "</tr>\n",
       "</table>"
      ],
      "text/plain": [
       "<class 'statsmodels.iolib.summary.Summary'>\n",
       "\"\"\"\n",
       "                              ARMA Model Results                              \n",
       "==============================================================================\n",
       "Dep. Variable:                  Close   No. Observations:                  151\n",
       "Model:                     ARMA(4, 0)   Log Likelihood                 273.827\n",
       "Method:                       css-mle   S.D. of innovations              0.039\n",
       "Date:                Tue, 21 Jun 2022   AIC                           -535.654\n",
       "Time:                        21:12:34   BIC                           -517.550\n",
       "Sample:                    01-20-2022   HQIC                          -528.299\n",
       "                         - 06-19-2022                                         \n",
       "===============================================================================\n",
       "                  coef    std err          z      P>|z|      [0.025      0.975]\n",
       "-------------------------------------------------------------------------------\n",
       "const          -0.0048      0.004     -1.367      0.172      -0.012       0.002\n",
       "ar.L1.Close    -0.0330      0.083     -0.399      0.690      -0.195       0.129\n",
       "ar.L2.Close     0.0419      0.085      0.495      0.621      -0.124       0.208\n",
       "ar.L3.Close     0.0932      0.085      1.101      0.271      -0.073       0.259\n",
       "ar.L4.Close    -0.0131      0.087     -0.150      0.881      -0.184       0.158\n",
       "                                    Roots                                    \n",
       "=============================================================================\n",
       "                  Real          Imaginary           Modulus         Frequency\n",
       "-----------------------------------------------------------------------------\n",
       "AR.1           -1.2899           -1.6479j            2.0927           -0.3557\n",
       "AR.2           -1.2899           +1.6479j            2.0927            0.3557\n",
       "AR.3            2.3849           -0.0000j            2.3849           -0.0000\n",
       "AR.4            7.3107           -0.0000j            7.3107           -0.0000\n",
       "-----------------------------------------------------------------------------\n",
       "\"\"\""
      ]
     },
     "execution_count": 12,
     "metadata": {},
     "output_type": "execute_result"
    }
   ],
   "source": [
    "model_AR4 = ARMA(bitdiff.dropna(), order=(4, 0))\n",
    "result_AR4 = model_AR4.fit()\n",
    "result_AR4.summary()"
   ]
  },
  {
   "cell_type": "code",
   "execution_count": 13,
   "id": "39b90ff9",
   "metadata": {},
   "outputs": [
    {
     "name": "stderr",
     "output_type": "stream",
     "text": [
      "C:\\Users\\leube\\anaconda3\\lib\\site-packages\\statsmodels\\tsa\\arima_model.py:472: FutureWarning: \n",
      "statsmodels.tsa.arima_model.ARMA and statsmodels.tsa.arima_model.ARIMA have\n",
      "been deprecated in favor of statsmodels.tsa.arima.model.ARIMA (note the .\n",
      "between arima and model) and\n",
      "statsmodels.tsa.SARIMAX. These will be removed after the 0.12 release.\n",
      "\n",
      "statsmodels.tsa.arima.model.ARIMA makes use of the statespace framework and\n",
      "is both well tested and maintained.\n",
      "\n",
      "To silence this warning and continue using ARMA and ARIMA until they are\n",
      "removed, use:\n",
      "\n",
      "import warnings\n",
      "warnings.filterwarnings('ignore', 'statsmodels.tsa.arima_model.ARMA',\n",
      "                        FutureWarning)\n",
      "warnings.filterwarnings('ignore', 'statsmodels.tsa.arima_model.ARIMA',\n",
      "                        FutureWarning)\n",
      "\n",
      "  warnings.warn(ARIMA_DEPRECATION_WARN, FutureWarning)\n",
      "C:\\Users\\leube\\anaconda3\\lib\\site-packages\\statsmodels\\tsa\\base\\tsa_model.py:524: ValueWarning: No frequency information was provided, so inferred frequency D will be used.\n",
      "  warnings.warn('No frequency information was'\n"
     ]
    },
    {
     "data": {
      "text/html": [
       "<table class=\"simpletable\">\n",
       "<caption>ARMA Model Results</caption>\n",
       "<tr>\n",
       "  <th>Dep. Variable:</th>       <td>Close</td>      <th>  No. Observations:  </th>    <td>151</td>  \n",
       "</tr>\n",
       "<tr>\n",
       "  <th>Model:</th>            <td>ARMA(0, 1)</td>    <th>  Log Likelihood     </th>  <td>273.099</td>\n",
       "</tr>\n",
       "<tr>\n",
       "  <th>Method:</th>             <td>css-mle</td>     <th>  S.D. of innovations</th>   <td>0.040</td> \n",
       "</tr>\n",
       "<tr>\n",
       "  <th>Date:</th>          <td>Tue, 21 Jun 2022</td> <th>  AIC                </th> <td>-540.198</td>\n",
       "</tr>\n",
       "<tr>\n",
       "  <th>Time:</th>              <td>21:12:37</td>     <th>  BIC                </th> <td>-531.146</td>\n",
       "</tr>\n",
       "<tr>\n",
       "  <th>Sample:</th>           <td>01-20-2022</td>    <th>  HQIC               </th> <td>-536.520</td>\n",
       "</tr>\n",
       "<tr>\n",
       "  <th></th>                 <td>- 06-19-2022</td>   <th>                     </th>     <td> </td>   \n",
       "</tr>\n",
       "</table>\n",
       "<table class=\"simpletable\">\n",
       "<tr>\n",
       "       <td></td>          <th>coef</th>     <th>std err</th>      <th>z</th>      <th>P>|z|</th>  <th>[0.025</th>    <th>0.975]</th>  \n",
       "</tr>\n",
       "<tr>\n",
       "  <th>const</th>       <td>   -0.0047</td> <td>    0.003</td> <td>   -1.502</td> <td> 0.133</td> <td>   -0.011</td> <td>    0.001</td>\n",
       "</tr>\n",
       "<tr>\n",
       "  <th>ma.L1.Close</th> <td>   -0.0301</td> <td>    0.079</td> <td>   -0.381</td> <td> 0.703</td> <td>   -0.185</td> <td>    0.124</td>\n",
       "</tr>\n",
       "</table>\n",
       "<table class=\"simpletable\">\n",
       "<caption>Roots</caption>\n",
       "<tr>\n",
       "    <td></td>   <th>            Real</th>  <th>         Imaginary</th> <th>         Modulus</th>  <th>        Frequency</th>\n",
       "</tr>\n",
       "<tr>\n",
       "  <th>MA.1</th> <td>          33.2767</td> <td>          +0.0000j</td> <td>          33.2767</td> <td>           0.0000</td>\n",
       "</tr>\n",
       "</table>"
      ],
      "text/plain": [
       "<class 'statsmodels.iolib.summary.Summary'>\n",
       "\"\"\"\n",
       "                              ARMA Model Results                              \n",
       "==============================================================================\n",
       "Dep. Variable:                  Close   No. Observations:                  151\n",
       "Model:                     ARMA(0, 1)   Log Likelihood                 273.099\n",
       "Method:                       css-mle   S.D. of innovations              0.040\n",
       "Date:                Tue, 21 Jun 2022   AIC                           -540.198\n",
       "Time:                        21:12:37   BIC                           -531.146\n",
       "Sample:                    01-20-2022   HQIC                          -536.520\n",
       "                         - 06-19-2022                                         \n",
       "===============================================================================\n",
       "                  coef    std err          z      P>|z|      [0.025      0.975]\n",
       "-------------------------------------------------------------------------------\n",
       "const          -0.0047      0.003     -1.502      0.133      -0.011       0.001\n",
       "ma.L1.Close    -0.0301      0.079     -0.381      0.703      -0.185       0.124\n",
       "                                    Roots                                    \n",
       "=============================================================================\n",
       "                  Real          Imaginary           Modulus         Frequency\n",
       "-----------------------------------------------------------------------------\n",
       "MA.1           33.2767           +0.0000j           33.2767            0.0000\n",
       "-----------------------------------------------------------------------------\n",
       "\"\"\""
      ]
     },
     "execution_count": 13,
     "metadata": {},
     "output_type": "execute_result"
    }
   ],
   "source": [
    "# MA\n",
    "\n",
    "model_MA1 = ARMA(bitdiff.dropna(), order=(0, 1))\n",
    "result_MA1 = model_MA1.fit()\n",
    "result_MA1.summary()"
   ]
  },
  {
   "cell_type": "code",
   "execution_count": 14,
   "id": "a32c56b1",
   "metadata": {},
   "outputs": [
    {
     "name": "stderr",
     "output_type": "stream",
     "text": [
      "C:\\Users\\leube\\anaconda3\\lib\\site-packages\\statsmodels\\tsa\\arima_model.py:472: FutureWarning: \n",
      "statsmodels.tsa.arima_model.ARMA and statsmodels.tsa.arima_model.ARIMA have\n",
      "been deprecated in favor of statsmodels.tsa.arima.model.ARIMA (note the .\n",
      "between arima and model) and\n",
      "statsmodels.tsa.SARIMAX. These will be removed after the 0.12 release.\n",
      "\n",
      "statsmodels.tsa.arima.model.ARIMA makes use of the statespace framework and\n",
      "is both well tested and maintained.\n",
      "\n",
      "To silence this warning and continue using ARMA and ARIMA until they are\n",
      "removed, use:\n",
      "\n",
      "import warnings\n",
      "warnings.filterwarnings('ignore', 'statsmodels.tsa.arima_model.ARMA',\n",
      "                        FutureWarning)\n",
      "warnings.filterwarnings('ignore', 'statsmodels.tsa.arima_model.ARIMA',\n",
      "                        FutureWarning)\n",
      "\n",
      "  warnings.warn(ARIMA_DEPRECATION_WARN, FutureWarning)\n",
      "C:\\Users\\leube\\anaconda3\\lib\\site-packages\\statsmodels\\tsa\\base\\tsa_model.py:524: ValueWarning: No frequency information was provided, so inferred frequency D will be used.\n",
      "  warnings.warn('No frequency information was'\n"
     ]
    },
    {
     "data": {
      "text/html": [
       "<table class=\"simpletable\">\n",
       "<caption>ARMA Model Results</caption>\n",
       "<tr>\n",
       "  <th>Dep. Variable:</th>       <td>Close</td>      <th>  No. Observations:  </th>    <td>151</td>  \n",
       "</tr>\n",
       "<tr>\n",
       "  <th>Model:</th>            <td>ARMA(0, 4)</td>    <th>  Log Likelihood     </th>  <td>273.842</td>\n",
       "</tr>\n",
       "<tr>\n",
       "  <th>Method:</th>             <td>css-mle</td>     <th>  S.D. of innovations</th>   <td>0.039</td> \n",
       "</tr>\n",
       "<tr>\n",
       "  <th>Date:</th>          <td>Tue, 21 Jun 2022</td> <th>  AIC                </th> <td>-535.685</td>\n",
       "</tr>\n",
       "<tr>\n",
       "  <th>Time:</th>              <td>21:12:41</td>     <th>  BIC                </th> <td>-517.581</td>\n",
       "</tr>\n",
       "<tr>\n",
       "  <th>Sample:</th>           <td>01-20-2022</td>    <th>  HQIC               </th> <td>-528.330</td>\n",
       "</tr>\n",
       "<tr>\n",
       "  <th></th>                 <td>- 06-19-2022</td>   <th>                     </th>     <td> </td>   \n",
       "</tr>\n",
       "</table>\n",
       "<table class=\"simpletable\">\n",
       "<tr>\n",
       "       <td></td>          <th>coef</th>     <th>std err</th>      <th>z</th>      <th>P>|z|</th>  <th>[0.025</th>    <th>0.975]</th>  \n",
       "</tr>\n",
       "<tr>\n",
       "  <th>const</th>       <td>   -0.0048</td> <td>    0.003</td> <td>   -1.377</td> <td> 0.169</td> <td>   -0.012</td> <td>    0.002</td>\n",
       "</tr>\n",
       "<tr>\n",
       "  <th>ma.L1.Close</th> <td>   -0.0329</td> <td>    0.083</td> <td>   -0.397</td> <td> 0.691</td> <td>   -0.195</td> <td>    0.130</td>\n",
       "</tr>\n",
       "<tr>\n",
       "  <th>ma.L2.Close</th> <td>    0.0382</td> <td>    0.087</td> <td>    0.437</td> <td> 0.662</td> <td>   -0.133</td> <td>    0.210</td>\n",
       "</tr>\n",
       "<tr>\n",
       "  <th>ma.L3.Close</th> <td>    0.0975</td> <td>    0.092</td> <td>    1.061</td> <td> 0.289</td> <td>   -0.083</td> <td>    0.278</td>\n",
       "</tr>\n",
       "<tr>\n",
       "  <th>ma.L4.Close</th> <td>   -0.0129</td> <td>    0.094</td> <td>   -0.137</td> <td> 0.891</td> <td>   -0.197</td> <td>    0.171</td>\n",
       "</tr>\n",
       "</table>\n",
       "<table class=\"simpletable\">\n",
       "<caption>Roots</caption>\n",
       "<tr>\n",
       "    <td></td>   <th>            Real</th>  <th>         Imaginary</th> <th>         Modulus</th>  <th>        Frequency</th>\n",
       "</tr>\n",
       "<tr>\n",
       "  <th>MA.1</th> <td>          -2.1511</td> <td>          -0.0000j</td> <td>           2.1511</td> <td>          -0.5000</td>\n",
       "</tr>\n",
       "<tr>\n",
       "  <th>MA.2</th> <td>           0.8360</td> <td>          -1.9450j</td> <td>           2.1171</td> <td>          -0.1854</td>\n",
       "</tr>\n",
       "<tr>\n",
       "  <th>MA.3</th> <td>           0.8360</td> <td>          +1.9450j</td> <td>           2.1171</td> <td>           0.1854</td>\n",
       "</tr>\n",
       "<tr>\n",
       "  <th>MA.4</th> <td>           8.0164</td> <td>          -0.0000j</td> <td>           8.0164</td> <td>          -0.0000</td>\n",
       "</tr>\n",
       "</table>"
      ],
      "text/plain": [
       "<class 'statsmodels.iolib.summary.Summary'>\n",
       "\"\"\"\n",
       "                              ARMA Model Results                              \n",
       "==============================================================================\n",
       "Dep. Variable:                  Close   No. Observations:                  151\n",
       "Model:                     ARMA(0, 4)   Log Likelihood                 273.842\n",
       "Method:                       css-mle   S.D. of innovations              0.039\n",
       "Date:                Tue, 21 Jun 2022   AIC                           -535.685\n",
       "Time:                        21:12:41   BIC                           -517.581\n",
       "Sample:                    01-20-2022   HQIC                          -528.330\n",
       "                         - 06-19-2022                                         \n",
       "===============================================================================\n",
       "                  coef    std err          z      P>|z|      [0.025      0.975]\n",
       "-------------------------------------------------------------------------------\n",
       "const          -0.0048      0.003     -1.377      0.169      -0.012       0.002\n",
       "ma.L1.Close    -0.0329      0.083     -0.397      0.691      -0.195       0.130\n",
       "ma.L2.Close     0.0382      0.087      0.437      0.662      -0.133       0.210\n",
       "ma.L3.Close     0.0975      0.092      1.061      0.289      -0.083       0.278\n",
       "ma.L4.Close    -0.0129      0.094     -0.137      0.891      -0.197       0.171\n",
       "                                    Roots                                    \n",
       "=============================================================================\n",
       "                  Real          Imaginary           Modulus         Frequency\n",
       "-----------------------------------------------------------------------------\n",
       "MA.1           -2.1511           -0.0000j            2.1511           -0.5000\n",
       "MA.2            0.8360           -1.9450j            2.1171           -0.1854\n",
       "MA.3            0.8360           +1.9450j            2.1171            0.1854\n",
       "MA.4            8.0164           -0.0000j            8.0164           -0.0000\n",
       "-----------------------------------------------------------------------------\n",
       "\"\"\""
      ]
     },
     "execution_count": 14,
     "metadata": {},
     "output_type": "execute_result"
    }
   ],
   "source": [
    "model_MA4= ARMA(bitdiff.dropna(), order=(0, 4))\n",
    "result_MA4 = model_MA4.fit()\n",
    "result_MA4.summary()"
   ]
  },
  {
   "cell_type": "code",
   "execution_count": 20,
   "id": "ce50d176",
   "metadata": {},
   "outputs": [
    {
     "name": "stderr",
     "output_type": "stream",
     "text": [
      "C:\\Users\\leube\\anaconda3\\lib\\site-packages\\statsmodels\\tsa\\arima_model.py:472: FutureWarning: \n",
      "statsmodels.tsa.arima_model.ARMA and statsmodels.tsa.arima_model.ARIMA have\n",
      "been deprecated in favor of statsmodels.tsa.arima.model.ARIMA (note the .\n",
      "between arima and model) and\n",
      "statsmodels.tsa.SARIMAX. These will be removed after the 0.12 release.\n",
      "\n",
      "statsmodels.tsa.arima.model.ARIMA makes use of the statespace framework and\n",
      "is both well tested and maintained.\n",
      "\n",
      "To silence this warning and continue using ARMA and ARIMA until they are\n",
      "removed, use:\n",
      "\n",
      "import warnings\n",
      "warnings.filterwarnings('ignore', 'statsmodels.tsa.arima_model.ARMA',\n",
      "                        FutureWarning)\n",
      "warnings.filterwarnings('ignore', 'statsmodels.tsa.arima_model.ARIMA',\n",
      "                        FutureWarning)\n",
      "\n",
      "  warnings.warn(ARIMA_DEPRECATION_WARN, FutureWarning)\n",
      "C:\\Users\\leube\\anaconda3\\lib\\site-packages\\statsmodels\\tsa\\base\\tsa_model.py:578: ValueWarning: An unsupported index was provided and will be ignored when e.g. forecasting.\n",
      "  warnings.warn('An unsupported index was provided and will be'\n"
     ]
    },
    {
     "data": {
      "text/html": [
       "<table class=\"simpletable\">\n",
       "<caption>ARMA Model Results</caption>\n",
       "<tr>\n",
       "  <th>Dep. Variable:</th>       <td>Close</td>      <th>  No. Observations:  </th>    <td>132</td>  \n",
       "</tr>\n",
       "<tr>\n",
       "  <th>Model:</th>            <td>ARMA(1, 1)</td>    <th>  Log Likelihood     </th>  <td>251.294</td>\n",
       "</tr>\n",
       "<tr>\n",
       "  <th>Method:</th>             <td>css-mle</td>     <th>  S.D. of innovations</th>   <td>0.036</td> \n",
       "</tr>\n",
       "<tr>\n",
       "  <th>Date:</th>          <td>Tue, 21 Jun 2022</td> <th>  AIC                </th> <td>-494.589</td>\n",
       "</tr>\n",
       "<tr>\n",
       "  <th>Time:</th>              <td>21:12:55</td>     <th>  BIC                </th> <td>-483.057</td>\n",
       "</tr>\n",
       "<tr>\n",
       "  <th>Sample:</th>                <td>0</td>        <th>  HQIC               </th> <td>-489.903</td>\n",
       "</tr>\n",
       "<tr>\n",
       "  <th></th>                       <td> </td>        <th>                     </th>     <td> </td>   \n",
       "</tr>\n",
       "</table>\n",
       "<table class=\"simpletable\">\n",
       "<tr>\n",
       "       <td></td>          <th>coef</th>     <th>std err</th>      <th>z</th>      <th>P>|z|</th>  <th>[0.025</th>    <th>0.975]</th>  \n",
       "</tr>\n",
       "<tr>\n",
       "  <th>const</th>       <td>   -0.0020</td> <td>    0.001</td> <td>   -1.598</td> <td> 0.110</td> <td>   -0.004</td> <td>    0.000</td>\n",
       "</tr>\n",
       "<tr>\n",
       "  <th>ar.L1.Close</th> <td>    0.9574</td> <td>    0.029</td> <td>   32.887</td> <td> 0.000</td> <td>    0.900</td> <td>    1.014</td>\n",
       "</tr>\n",
       "<tr>\n",
       "  <th>ma.L1.Close</th> <td>   -1.0000</td> <td>    0.021</td> <td>  -48.363</td> <td> 0.000</td> <td>   -1.040</td> <td>   -0.959</td>\n",
       "</tr>\n",
       "</table>\n",
       "<table class=\"simpletable\">\n",
       "<caption>Roots</caption>\n",
       "<tr>\n",
       "    <td></td>   <th>            Real</th>  <th>         Imaginary</th> <th>         Modulus</th>  <th>        Frequency</th>\n",
       "</tr>\n",
       "<tr>\n",
       "  <th>AR.1</th> <td>           1.0445</td> <td>          +0.0000j</td> <td>           1.0445</td> <td>           0.0000</td>\n",
       "</tr>\n",
       "<tr>\n",
       "  <th>MA.1</th> <td>           1.0000</td> <td>          +0.0000j</td> <td>           1.0000</td> <td>           0.0000</td>\n",
       "</tr>\n",
       "</table>"
      ],
      "text/plain": [
       "<class 'statsmodels.iolib.summary.Summary'>\n",
       "\"\"\"\n",
       "                              ARMA Model Results                              \n",
       "==============================================================================\n",
       "Dep. Variable:                  Close   No. Observations:                  132\n",
       "Model:                     ARMA(1, 1)   Log Likelihood                 251.294\n",
       "Method:                       css-mle   S.D. of innovations              0.036\n",
       "Date:                Tue, 21 Jun 2022   AIC                           -494.589\n",
       "Time:                        21:12:55   BIC                           -483.057\n",
       "Sample:                             0   HQIC                          -489.903\n",
       "                                                                              \n",
       "===============================================================================\n",
       "                  coef    std err          z      P>|z|      [0.025      0.975]\n",
       "-------------------------------------------------------------------------------\n",
       "const          -0.0020      0.001     -1.598      0.110      -0.004       0.000\n",
       "ar.L1.Close     0.9574      0.029     32.887      0.000       0.900       1.014\n",
       "ma.L1.Close    -1.0000      0.021    -48.363      0.000      -1.040      -0.959\n",
       "                                    Roots                                    \n",
       "=============================================================================\n",
       "                  Real          Imaginary           Modulus         Frequency\n",
       "-----------------------------------------------------------------------------\n",
       "AR.1            1.0445           +0.0000j            1.0445            0.0000\n",
       "MA.1            1.0000           +0.0000j            1.0000            0.0000\n",
       "-----------------------------------------------------------------------------\n",
       "\"\"\""
      ]
     },
     "execution_count": 20,
     "metadata": {},
     "output_type": "execute_result"
    }
   ],
   "source": [
    "model_ARMA11= ARMA(train['Close'].dropna(), order=(1, 1))\n",
    "result_ARMA11 = model_ARMA11.fit()\n",
    "result_ARMA11.summary()"
   ]
  },
  {
   "cell_type": "markdown",
   "id": "8d3b91a8",
   "metadata": {},
   "source": [
    "best model regarding the AIC and BIC score is either the AR1 or MA1 model"
   ]
  },
  {
   "cell_type": "code",
   "execution_count": 16,
   "id": "f5954742",
   "metadata": {},
   "outputs": [],
   "source": [
    "bitdiff = pd.DataFrame(bitdiff)"
   ]
  },
  {
   "cell_type": "code",
   "execution_count": 17,
   "id": "d4202e4f",
   "metadata": {},
   "outputs": [],
   "source": [
    "bitdiff.reset_index(inplace=True)"
   ]
  },
  {
   "cell_type": "code",
   "execution_count": 18,
   "id": "b6f992a1",
   "metadata": {},
   "outputs": [
    {
     "data": {
      "text/html": [
       "<div>\n",
       "<style scoped>\n",
       "    .dataframe tbody tr th:only-of-type {\n",
       "        vertical-align: middle;\n",
       "    }\n",
       "\n",
       "    .dataframe tbody tr th {\n",
       "        vertical-align: top;\n",
       "    }\n",
       "\n",
       "    .dataframe thead th {\n",
       "        text-align: right;\n",
       "    }\n",
       "</style>\n",
       "<table border=\"1\" class=\"dataframe\">\n",
       "  <thead>\n",
       "    <tr style=\"text-align: right;\">\n",
       "      <th></th>\n",
       "      <th>Date</th>\n",
       "      <th>Close</th>\n",
       "    </tr>\n",
       "  </thead>\n",
       "  <tbody>\n",
       "    <tr>\n",
       "      <th>1</th>\n",
       "      <td>2022-01-20</td>\n",
       "      <td>-0.025817</td>\n",
       "    </tr>\n",
       "    <tr>\n",
       "      <th>2</th>\n",
       "      <td>2022-01-21</td>\n",
       "      <td>-0.109605</td>\n",
       "    </tr>\n",
       "    <tr>\n",
       "      <th>3</th>\n",
       "      <td>2022-01-22</td>\n",
       "      <td>-0.039930</td>\n",
       "    </tr>\n",
       "    <tr>\n",
       "      <th>4</th>\n",
       "      <td>2022-01-23</td>\n",
       "      <td>0.034967</td>\n",
       "    </tr>\n",
       "    <tr>\n",
       "      <th>5</th>\n",
       "      <td>2022-01-24</td>\n",
       "      <td>0.010353</td>\n",
       "    </tr>\n",
       "    <tr>\n",
       "      <th>...</th>\n",
       "      <td>...</td>\n",
       "      <td>...</td>\n",
       "    </tr>\n",
       "    <tr>\n",
       "      <th>147</th>\n",
       "      <td>2022-06-15</td>\n",
       "      <td>0.016349</td>\n",
       "    </tr>\n",
       "    <tr>\n",
       "      <th>148</th>\n",
       "      <td>2022-06-16</td>\n",
       "      <td>-0.102112</td>\n",
       "    </tr>\n",
       "    <tr>\n",
       "      <th>149</th>\n",
       "      <td>2022-06-17</td>\n",
       "      <td>0.004398</td>\n",
       "    </tr>\n",
       "    <tr>\n",
       "      <th>150</th>\n",
       "      <td>2022-06-18</td>\n",
       "      <td>-0.073666</td>\n",
       "    </tr>\n",
       "    <tr>\n",
       "      <th>151</th>\n",
       "      <td>2022-06-19</td>\n",
       "      <td>0.077653</td>\n",
       "    </tr>\n",
       "  </tbody>\n",
       "</table>\n",
       "<p>151 rows × 2 columns</p>\n",
       "</div>"
      ],
      "text/plain": [
       "          Date     Close\n",
       "1   2022-01-20 -0.025817\n",
       "2   2022-01-21 -0.109605\n",
       "3   2022-01-22 -0.039930\n",
       "4   2022-01-23  0.034967\n",
       "5   2022-01-24  0.010353\n",
       "..         ...       ...\n",
       "147 2022-06-15  0.016349\n",
       "148 2022-06-16 -0.102112\n",
       "149 2022-06-17  0.004398\n",
       "150 2022-06-18 -0.073666\n",
       "151 2022-06-19  0.077653\n",
       "\n",
       "[151 rows x 2 columns]"
      ]
     },
     "execution_count": 18,
     "metadata": {},
     "output_type": "execute_result"
    }
   ],
   "source": [
    "bitdiff.drop(bitdiff.index[0])"
   ]
  },
  {
   "cell_type": "code",
   "execution_count": 50,
   "id": "c3df5c2a",
   "metadata": {},
   "outputs": [],
   "source": [
    "train = bitdiff[bitdiff['Date'] < pd.to_datetime(\"2022-06\", format='%Y-%m')]\n",
    "test = bitdiff[bitdiff['Date'] >= pd.to_datetime(\"2022-06\", format='%Y-%m')]"
   ]
  },
  {
   "cell_type": "code",
   "execution_count": 104,
   "id": "481d3579",
   "metadata": {},
   "outputs": [
    {
     "data": {
      "text/html": [
       "<div>\n",
       "<style scoped>\n",
       "    .dataframe tbody tr th:only-of-type {\n",
       "        vertical-align: middle;\n",
       "    }\n",
       "\n",
       "    .dataframe tbody tr th {\n",
       "        vertical-align: top;\n",
       "    }\n",
       "\n",
       "    .dataframe thead th {\n",
       "        text-align: right;\n",
       "    }\n",
       "</style>\n",
       "<table border=\"1\" class=\"dataframe\">\n",
       "  <thead>\n",
       "    <tr style=\"text-align: right;\">\n",
       "      <th></th>\n",
       "      <th>Date</th>\n",
       "      <th>Close</th>\n",
       "    </tr>\n",
       "  </thead>\n",
       "  <tbody>\n",
       "    <tr>\n",
       "      <th>133</th>\n",
       "      <td>2022-06-01</td>\n",
       "      <td>-0.064747</td>\n",
       "    </tr>\n",
       "    <tr>\n",
       "      <th>134</th>\n",
       "      <td>2022-06-02</td>\n",
       "      <td>0.022183</td>\n",
       "    </tr>\n",
       "    <tr>\n",
       "      <th>135</th>\n",
       "      <td>2022-06-03</td>\n",
       "      <td>-0.025365</td>\n",
       "    </tr>\n",
       "    <tr>\n",
       "      <th>136</th>\n",
       "      <td>2022-06-04</td>\n",
       "      <td>0.004317</td>\n",
       "    </tr>\n",
       "    <tr>\n",
       "      <th>137</th>\n",
       "      <td>2022-06-05</td>\n",
       "      <td>0.002469</td>\n",
       "    </tr>\n",
       "    <tr>\n",
       "      <th>138</th>\n",
       "      <td>2022-06-06</td>\n",
       "      <td>0.047792</td>\n",
       "    </tr>\n",
       "    <tr>\n",
       "      <th>139</th>\n",
       "      <td>2022-06-07</td>\n",
       "      <td>-0.006883</td>\n",
       "    </tr>\n",
       "    <tr>\n",
       "      <th>140</th>\n",
       "      <td>2022-06-08</td>\n",
       "      <td>-0.030673</td>\n",
       "    </tr>\n",
       "    <tr>\n",
       "      <th>141</th>\n",
       "      <td>2022-06-09</td>\n",
       "      <td>-0.003393</td>\n",
       "    </tr>\n",
       "    <tr>\n",
       "      <th>142</th>\n",
       "      <td>2022-06-10</td>\n",
       "      <td>-0.034742</td>\n",
       "    </tr>\n",
       "    <tr>\n",
       "      <th>143</th>\n",
       "      <td>2022-06-11</td>\n",
       "      <td>-0.025173</td>\n",
       "    </tr>\n",
       "    <tr>\n",
       "      <th>144</th>\n",
       "      <td>2022-06-12</td>\n",
       "      <td>-0.058001</td>\n",
       "    </tr>\n",
       "    <tr>\n",
       "      <th>145</th>\n",
       "      <td>2022-06-13</td>\n",
       "      <td>-0.174053</td>\n",
       "    </tr>\n",
       "    <tr>\n",
       "      <th>146</th>\n",
       "      <td>2022-06-14</td>\n",
       "      <td>-0.012556</td>\n",
       "    </tr>\n",
       "    <tr>\n",
       "      <th>147</th>\n",
       "      <td>2022-06-15</td>\n",
       "      <td>0.016349</td>\n",
       "    </tr>\n",
       "    <tr>\n",
       "      <th>148</th>\n",
       "      <td>2022-06-16</td>\n",
       "      <td>-0.102112</td>\n",
       "    </tr>\n",
       "    <tr>\n",
       "      <th>149</th>\n",
       "      <td>2022-06-17</td>\n",
       "      <td>0.004398</td>\n",
       "    </tr>\n",
       "    <tr>\n",
       "      <th>150</th>\n",
       "      <td>2022-06-18</td>\n",
       "      <td>-0.073666</td>\n",
       "    </tr>\n",
       "    <tr>\n",
       "      <th>151</th>\n",
       "      <td>2022-06-19</td>\n",
       "      <td>0.077653</td>\n",
       "    </tr>\n",
       "  </tbody>\n",
       "</table>\n",
       "</div>"
      ],
      "text/plain": [
       "          Date     Close\n",
       "133 2022-06-01 -0.064747\n",
       "134 2022-06-02  0.022183\n",
       "135 2022-06-03 -0.025365\n",
       "136 2022-06-04  0.004317\n",
       "137 2022-06-05  0.002469\n",
       "138 2022-06-06  0.047792\n",
       "139 2022-06-07 -0.006883\n",
       "140 2022-06-08 -0.030673\n",
       "141 2022-06-09 -0.003393\n",
       "142 2022-06-10 -0.034742\n",
       "143 2022-06-11 -0.025173\n",
       "144 2022-06-12 -0.058001\n",
       "145 2022-06-13 -0.174053\n",
       "146 2022-06-14 -0.012556\n",
       "147 2022-06-15  0.016349\n",
       "148 2022-06-16 -0.102112\n",
       "149 2022-06-17  0.004398\n",
       "150 2022-06-18 -0.073666\n",
       "151 2022-06-19  0.077653"
      ]
     },
     "execution_count": 104,
     "metadata": {},
     "output_type": "execute_result"
    }
   ],
   "source": [
    "test"
   ]
  },
  {
   "cell_type": "code",
   "execution_count": 105,
   "id": "42f00520",
   "metadata": {},
   "outputs": [
    {
     "data": {
      "text/plain": [
       "1    -0.001982\n",
       "2    -0.001474\n",
       "3     0.000857\n",
       "4     0.001641\n",
       "5     0.000734\n",
       "6     0.000397\n",
       "7     0.000115\n",
       "8     0.000093\n",
       "9    -0.000179\n",
       "10   -0.000681\n",
       "11   -0.000984\n",
       "12   -0.000906\n",
       "13   -0.001350\n",
       "14   -0.001585\n",
       "15   -0.000416\n",
       "16   -0.000636\n",
       "17   -0.003639\n",
       "18   -0.003627\n",
       "19   -0.004279\n",
       "20   -0.005199\n",
       "dtype: float64"
      ]
     },
     "execution_count": 105,
     "metadata": {},
     "output_type": "execute_result"
    }
   ],
   "source": [
    "predictions = result_ARMA11.predict(0,len(test))\n",
    "predictions"
   ]
  },
  {
   "cell_type": "code",
   "execution_count": 55,
   "id": "af93b558",
   "metadata": {},
   "outputs": [
    {
     "name": "stdout",
     "output_type": "stream",
     "text": [
      "0.058786950666094226\n"
     ]
    }
   ],
   "source": [
    "# look for mean squarred error\n",
    "\n",
    "from sklearn.metrics import mean_squared_error\n",
    "print(np.sqrt(mean_squared_error(test['Close'], predictions)))"
   ]
  },
  {
   "cell_type": "code",
   "execution_count": 28,
   "id": "1478eff1",
   "metadata": {},
   "outputs": [],
   "source": [
    "bitdiff.drop(bitdiff.index[0], inplace=True)"
   ]
  },
  {
   "cell_type": "code",
   "execution_count": 56,
   "id": "1555fd8c",
   "metadata": {},
   "outputs": [
    {
     "data": {
      "text/html": [
       "<div>\n",
       "<style scoped>\n",
       "    .dataframe tbody tr th:only-of-type {\n",
       "        vertical-align: middle;\n",
       "    }\n",
       "\n",
       "    .dataframe tbody tr th {\n",
       "        vertical-align: top;\n",
       "    }\n",
       "\n",
       "    .dataframe thead th {\n",
       "        text-align: right;\n",
       "    }\n",
       "</style>\n",
       "<table border=\"1\" class=\"dataframe\">\n",
       "  <thead>\n",
       "    <tr style=\"text-align: right;\">\n",
       "      <th></th>\n",
       "      <th>Date</th>\n",
       "      <th>Close</th>\n",
       "    </tr>\n",
       "  </thead>\n",
       "  <tbody>\n",
       "    <tr>\n",
       "      <th>1</th>\n",
       "      <td>2022-01-20</td>\n",
       "      <td>-0.025817</td>\n",
       "    </tr>\n",
       "    <tr>\n",
       "      <th>2</th>\n",
       "      <td>2022-01-21</td>\n",
       "      <td>-0.109605</td>\n",
       "    </tr>\n",
       "    <tr>\n",
       "      <th>3</th>\n",
       "      <td>2022-01-22</td>\n",
       "      <td>-0.039930</td>\n",
       "    </tr>\n",
       "    <tr>\n",
       "      <th>4</th>\n",
       "      <td>2022-01-23</td>\n",
       "      <td>0.034967</td>\n",
       "    </tr>\n",
       "    <tr>\n",
       "      <th>5</th>\n",
       "      <td>2022-01-24</td>\n",
       "      <td>0.010353</td>\n",
       "    </tr>\n",
       "    <tr>\n",
       "      <th>...</th>\n",
       "      <td>...</td>\n",
       "      <td>...</td>\n",
       "    </tr>\n",
       "    <tr>\n",
       "      <th>147</th>\n",
       "      <td>2022-06-15</td>\n",
       "      <td>0.016349</td>\n",
       "    </tr>\n",
       "    <tr>\n",
       "      <th>148</th>\n",
       "      <td>2022-06-16</td>\n",
       "      <td>-0.102112</td>\n",
       "    </tr>\n",
       "    <tr>\n",
       "      <th>149</th>\n",
       "      <td>2022-06-17</td>\n",
       "      <td>0.004398</td>\n",
       "    </tr>\n",
       "    <tr>\n",
       "      <th>150</th>\n",
       "      <td>2022-06-18</td>\n",
       "      <td>-0.073666</td>\n",
       "    </tr>\n",
       "    <tr>\n",
       "      <th>151</th>\n",
       "      <td>2022-06-19</td>\n",
       "      <td>0.077653</td>\n",
       "    </tr>\n",
       "  </tbody>\n",
       "</table>\n",
       "<p>151 rows × 2 columns</p>\n",
       "</div>"
      ],
      "text/plain": [
       "          Date     Close\n",
       "1   2022-01-20 -0.025817\n",
       "2   2022-01-21 -0.109605\n",
       "3   2022-01-22 -0.039930\n",
       "4   2022-01-23  0.034967\n",
       "5   2022-01-24  0.010353\n",
       "..         ...       ...\n",
       "147 2022-06-15  0.016349\n",
       "148 2022-06-16 -0.102112\n",
       "149 2022-06-17  0.004398\n",
       "150 2022-06-18 -0.073666\n",
       "151 2022-06-19  0.077653\n",
       "\n",
       "[151 rows x 2 columns]"
      ]
     },
     "execution_count": 56,
     "metadata": {},
     "output_type": "execute_result"
    }
   ],
   "source": [
    "bitdiff"
   ]
  },
  {
   "cell_type": "code",
   "execution_count": 59,
   "id": "a2a64adc",
   "metadata": {},
   "outputs": [],
   "source": [
    "# Create the function that allows to implement ARMA model, evaluate the result and choose one model with the best performance\n",
    "import warnings\n",
    "warnings.filterwarnings(\"ignore\")\n",
    "\n",
    "def best_Arma(dfvalue, mini, maxi):\n",
    "    '''\n",
    "    input min/max value for minimum order and maximum order for both AR and MA\n",
    "    \n",
    "    '''\n",
    "    ars = np.arange(mini,maxi)\n",
    "    ams = np.arange(mini,maxi)\n",
    "    \n",
    "    AICS = {}\n",
    "    \n",
    "    for x in ars:\n",
    "        for y in ams:\n",
    "            model= ARMA(dfvalue.dropna(), order=(x,y))\n",
    "            result = model.fit()\n",
    "            AICS[(x,y)] = result.aic\n",
    "            \n",
    "    min_value = min(AICS, key=AICS.get)\n",
    "\n",
    "    print(f'Best model: ARMA {min_value}')\n",
    "    return ARMA(dfvalue.dropna(), order=min_value)\n",
    "    \n",
    "    \n",
    "    \n",
    "            "
   ]
  },
  {
   "cell_type": "code",
   "execution_count": 60,
   "id": "4b478808",
   "metadata": {},
   "outputs": [
    {
     "name": "stdout",
     "output_type": "stream",
     "text": [
      "Best model: ARMA (3, 1)\n"
     ]
    }
   ],
   "source": [
    "model = best_Arma(bitdiff['Close'],1,4)\n",
    "result = model.fit()"
   ]
  },
  {
   "cell_type": "code",
   "execution_count": 61,
   "id": "8badb457",
   "metadata": {},
   "outputs": [],
   "source": [
    "from statsmodels.tsa.arima_model import ARIMA"
   ]
  },
  {
   "cell_type": "code",
   "execution_count": 75,
   "id": "629d47ea",
   "metadata": {},
   "outputs": [],
   "source": [
    "from statsmodels.tsa.arima_model import ARIMA\n",
    "def best_Arima(dfvalue, mini, maxi, station=None):\n",
    "    '''\n",
    "    input min/max value for minimum order and maximum order for both AR and MA\n",
    "    \n",
    "    '''\n",
    "    if station == True:\n",
    "        st = 1\n",
    "    elif station == False:\n",
    "        st = 0\n",
    "    \n",
    "    ars = np.arange(mini,maxi+1)\n",
    "    ams = np.arange(mini,maxi+1)\n",
    "    \n",
    "    AICS = {}\n",
    "    for x in ars:\n",
    "        for y in ams:\n",
    "            model= ARIMA(dfvalue.dropna(), order=(x,st,y))\n",
    "            result = model.fit()\n",
    "            AICS[(x,st,y)] = result.aic\n",
    "            print(f'{x,st,y}: AIC {result.aic} ')\n",
    "            \n",
    "    min_value = min(AICS, key=AICS.get)\n",
    "    print(AICS[min_value])\n",
    "    print(f'Best model: ARIMA {min_value}')\n",
    "    return ARIMA(dfvalue.dropna(), order=min_value)"
   ]
  },
  {
   "cell_type": "code",
   "execution_count": 72,
   "id": "c5fbe67e",
   "metadata": {},
   "outputs": [
    {
     "name": "stdout",
     "output_type": "stream",
     "text": [
      "(1, 1, 1): AIC 2620.802747110899 \n",
      "(1, 1, 2): AIC 2620.934547862461 \n",
      "(2, 1, 1): AIC 2620.8747775688153 \n",
      "(2, 1, 2): AIC 2622.452681064472 \n",
      "2620.802747110899\n",
      "Best model: ARIMA (1, 1, 1)\n"
     ]
    },
    {
     "data": {
      "text/plain": [
       "<statsmodels.tsa.arima_model.ARIMA at 0x1f5d54d7130>"
      ]
     },
     "execution_count": 72,
     "metadata": {},
     "output_type": "execute_result"
    }
   ],
   "source": [
    "best_Arima(bitcoin['Close'],1,3,station=True)"
   ]
  },
  {
   "cell_type": "code",
   "execution_count": null,
   "id": "72c19d3e",
   "metadata": {},
   "outputs": [],
   "source": []
  },
  {
   "cell_type": "code",
   "execution_count": 68,
   "id": "fd72f217",
   "metadata": {},
   "outputs": [],
   "source": [
    "# function already exists for ARIMA using pmdarima\n",
    "\n",
    "from pmdarima.arima import auto_arima\n",
    "model = auto_arima(train, trace=True, error_action='ignore', suppress_warnings=True, seasonal=True,  m=12)\n",
    "model.fit(train)\n",
    "forecast = model.predict(n_periods=len(test))\n",
    "forecast = pd.DataFrame(forecast,index = test.index,columns=['Prediction'])"
   ]
  },
  {
   "cell_type": "markdown",
   "id": "241a8a90",
   "metadata": {},
   "source": [
    "# Predictions"
   ]
  },
  {
   "cell_type": "code",
   "execution_count": 78,
   "id": "9b550563",
   "metadata": {},
   "outputs": [
    {
     "name": "stdout",
     "output_type": "stream",
     "text": [
      "(1, 1, 1): AIC 2620.802747110899 \n",
      "(1, 1, 2): AIC 2620.934547862461 \n",
      "(2, 1, 1): AIC 2620.8747775688153 \n",
      "(2, 1, 2): AIC 2622.452681064472 \n",
      "2620.802747110899\n",
      "Best model: ARIMA (1, 1, 1)\n"
     ]
    }
   ],
   "source": [
    "model = best_Arima(bitcoin['Close'],1,2,station=True)"
   ]
  },
  {
   "cell_type": "code",
   "execution_count": 92,
   "id": "eabecd96",
   "metadata": {},
   "outputs": [
    {
     "data": {
      "text/plain": [
       "<statsmodels.tsa.arima_model.ARIMA at 0x1f5d6498940>"
      ]
     },
     "execution_count": 92,
     "metadata": {},
     "output_type": "execute_result"
    }
   ],
   "source": [
    "model"
   ]
  },
  {
   "cell_type": "code",
   "execution_count": 79,
   "id": "ac7259d8",
   "metadata": {},
   "outputs": [],
   "source": [
    "result = model.fit()"
   ]
  },
  {
   "cell_type": "code",
   "execution_count": 108,
   "id": "8c8a5979",
   "metadata": {},
   "outputs": [],
   "source": [
    "forecast = result.predict(1,len(test))\n",
    "# result_ARMA11.predict(0,18)\n",
    "# forecast = pd.DataFrame(forecast,index = test.index,columns=['Prediction'])"
   ]
  },
  {
   "cell_type": "code",
   "execution_count": 112,
   "id": "cca910a9",
   "metadata": {},
   "outputs": [
    {
     "data": {
      "text/html": [
       "<div>\n",
       "<style scoped>\n",
       "    .dataframe tbody tr th:only-of-type {\n",
       "        vertical-align: middle;\n",
       "    }\n",
       "\n",
       "    .dataframe tbody tr th {\n",
       "        vertical-align: top;\n",
       "    }\n",
       "\n",
       "    .dataframe thead th {\n",
       "        text-align: right;\n",
       "    }\n",
       "</style>\n",
       "<table border=\"1\" class=\"dataframe\">\n",
       "  <thead>\n",
       "    <tr style=\"text-align: right;\">\n",
       "      <th></th>\n",
       "      <th>0</th>\n",
       "    </tr>\n",
       "  </thead>\n",
       "  <tbody>\n",
       "    <tr>\n",
       "      <th>2022-01-20</th>\n",
       "      <td>-127.628985</td>\n",
       "    </tr>\n",
       "    <tr>\n",
       "      <th>2022-01-21</th>\n",
       "      <td>-115.996089</td>\n",
       "    </tr>\n",
       "    <tr>\n",
       "      <th>2022-01-22</th>\n",
       "      <td>-64.629884</td>\n",
       "    </tr>\n",
       "    <tr>\n",
       "      <th>2022-01-23</th>\n",
       "      <td>-48.857243</td>\n",
       "    </tr>\n",
       "    <tr>\n",
       "      <th>2022-01-24</th>\n",
       "      <td>-67.487984</td>\n",
       "    </tr>\n",
       "    <tr>\n",
       "      <th>2022-01-25</th>\n",
       "      <td>-74.773310</td>\n",
       "    </tr>\n",
       "    <tr>\n",
       "      <th>2022-01-26</th>\n",
       "      <td>-81.011230</td>\n",
       "    </tr>\n",
       "    <tr>\n",
       "      <th>2022-01-27</th>\n",
       "      <td>-81.892346</td>\n",
       "    </tr>\n",
       "    <tr>\n",
       "      <th>2022-01-28</th>\n",
       "      <td>-87.967035</td>\n",
       "    </tr>\n",
       "    <tr>\n",
       "      <th>2022-01-29</th>\n",
       "      <td>-98.897635</td>\n",
       "    </tr>\n",
       "    <tr>\n",
       "      <th>2022-01-30</th>\n",
       "      <td>-105.802510</td>\n",
       "    </tr>\n",
       "    <tr>\n",
       "      <th>2022-01-31</th>\n",
       "      <td>-104.761251</td>\n",
       "    </tr>\n",
       "    <tr>\n",
       "      <th>2022-02-01</th>\n",
       "      <td>-114.658839</td>\n",
       "    </tr>\n",
       "    <tr>\n",
       "      <th>2022-02-02</th>\n",
       "      <td>-120.242181</td>\n",
       "    </tr>\n",
       "    <tr>\n",
       "      <th>2022-02-03</th>\n",
       "      <td>-96.790710</td>\n",
       "    </tr>\n",
       "    <tr>\n",
       "      <th>2022-02-04</th>\n",
       "      <td>-101.813970</td>\n",
       "    </tr>\n",
       "    <tr>\n",
       "      <th>2022-02-05</th>\n",
       "      <td>-166.402784</td>\n",
       "    </tr>\n",
       "    <tr>\n",
       "      <th>2022-02-06</th>\n",
       "      <td>-166.984696</td>\n",
       "    </tr>\n",
       "    <tr>\n",
       "      <th>2022-02-07</th>\n",
       "      <td>-182.615245</td>\n",
       "    </tr>\n",
       "  </tbody>\n",
       "</table>\n",
       "</div>"
      ],
      "text/plain": [
       "                     0\n",
       "2022-01-20 -127.628985\n",
       "2022-01-21 -115.996089\n",
       "2022-01-22  -64.629884\n",
       "2022-01-23  -48.857243\n",
       "2022-01-24  -67.487984\n",
       "2022-01-25  -74.773310\n",
       "2022-01-26  -81.011230\n",
       "2022-01-27  -81.892346\n",
       "2022-01-28  -87.967035\n",
       "2022-01-29  -98.897635\n",
       "2022-01-30 -105.802510\n",
       "2022-01-31 -104.761251\n",
       "2022-02-01 -114.658839\n",
       "2022-02-02 -120.242181\n",
       "2022-02-03  -96.790710\n",
       "2022-02-04 -101.813970\n",
       "2022-02-05 -166.402784\n",
       "2022-02-06 -166.984696\n",
       "2022-02-07 -182.615245"
      ]
     },
     "execution_count": 112,
     "metadata": {},
     "output_type": "execute_result"
    }
   ],
   "source": [
    "pd.DataFrame(forecast)"
   ]
  },
  {
   "cell_type": "code",
   "execution_count": 114,
   "id": "99db6e3f",
   "metadata": {},
   "outputs": [
    {
     "data": {
      "text/plain": [
       "[<matplotlib.lines.Line2D at 0x1f5d67d0b20>]"
      ]
     },
     "execution_count": 114,
     "metadata": {},
     "output_type": "execute_result"
    },
    {
     "data": {
      "image/png": "[encoded data removed]",
      "text/plain": [
       "<Figure size 432x288 with 1 Axes>"
      ]
     },
     "metadata": {
      "needs_background": "light"
     },
     "output_type": "display_data"
    }
   ],
   "source": [
    "plt.plot(forecast, color='black')"
   ]
  },
  {
   "cell_type": "code",
   "execution_count": 119,
   "id": "c75b8d4e",
   "metadata": {},
   "outputs": [
    {
     "data": {
      "image/png": "[encoded data removed]",
      "text/plain": [
       "<Figure size 432x288 with 1 Axes>"
      ]
     },
     "metadata": {},
     "output_type": "display_data"
    }
   ],
   "source": [
    "# plt.plot(train, color = \"black\")\n",
    "plt.plot(forecast, color = \"red\")\n",
    "plt.title(\"Train/Test split for Passenger Data\")\n",
    "plt.ylabel(\"Passenger Number\")\n",
    "plt.xlabel('Year-Month')\n",
    "sns.set()\n",
    "plt.show()"
   ]
  },
  {
   "cell_type": "markdown",
   "id": "a645834b",
   "metadata": {},
   "source": [
    "# Conclusion\n"
   ]
  },
  {
   "cell_type": "markdown",
   "id": "b1797172",
   "metadata": {},
   "source": [
    "# Business conclusion\n",
    "given the dvelopment of the last couple of weeks I would not advise anyone to buy bitcoin at the current moment, but rather to wait sometime until the fall of the value is somehwat decreasing, given the economical situation and situation around inflation around that time,buying bitcoin could be seen as an opportunity, betting on increasing prices after a crisis and regain of its previous price due to the belief in advancement of blockchain technologie\n",
    "\n",
    "this is just the beginning"
   ]
  }
 ],
 "metadata": {
  "kernelspec": {
   "display_name": "Python 3 (ipykernel)",
   "language": "python",
   "name": "python3"
  },
  "language_info": {
   "codemirror_mode": {
    "name": "ipython",
    "version": 3
   },
   "file_extension": ".py",
   "mimetype": "text/x-python",
   "name": "python",
   "nbconvert_exporter": "python",
   "pygments_lexer": "ipython3",
   "version": "3.9.7"
  }
 },
 "nbformat": 4,
 "nbformat_minor": 5
}
